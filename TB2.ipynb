{
  "nbformat": 4,
  "nbformat_minor": 0,
  "metadata": {
    "colab": {
      "name": "TB2.ipynb",
      "provenance": [],
      "collapsed_sections": []
    },
    "kernelspec": {
      "display_name": "Python 3",
      "name": "python3"
    },
    "language_info": {
      "name": "python"
    },
    "widgets": {
      "application/vnd.jupyter.widget-state+json": {
        "daa33fea3b1446aaa799c6178549ce7d": {
          "model_module": "@jupyter-widgets/controls",
          "model_name": "FileUploadModel",
          "model_module_version": "1.5.0",
          "state": {
            "_view_name": "FileUploadView",
            "_counter": 0,
            "style": "IPY_MODEL_dec4377de77e445fa632351f009c0ce7",
            "_dom_classes": [],
            "description": "Subir .txt",
            "multiple": false,
            "_model_name": "FileUploadModel",
            "data": [],
            "button_style": "",
            "_view_module": "@jupyter-widgets/controls",
            "_model_module_version": "1.5.0",
            "accept": ".txt",
            "_view_count": null,
            "disabled": false,
            "_view_module_version": "1.5.0",
            "error": "",
            "description_tooltip": null,
            "metadata": [],
            "_model_module": "@jupyter-widgets/controls",
            "layout": "IPY_MODEL_29ff2bc23ec44b1ab6cd2961721a54ce",
            "icon": "upload"
          }
        },
        "dec4377de77e445fa632351f009c0ce7": {
          "model_module": "@jupyter-widgets/controls",
          "model_name": "ButtonStyleModel",
          "model_module_version": "1.5.0",
          "state": {
            "_view_name": "StyleView",
            "_model_name": "ButtonStyleModel",
            "_view_module": "@jupyter-widgets/base",
            "_model_module_version": "1.5.0",
            "_view_count": null,
            "button_color": null,
            "font_weight": "",
            "_view_module_version": "1.2.0",
            "_model_module": "@jupyter-widgets/controls"
          }
        },
        "29ff2bc23ec44b1ab6cd2961721a54ce": {
          "model_module": "@jupyter-widgets/base",
          "model_name": "LayoutModel",
          "model_module_version": "1.2.0",
          "state": {
            "_view_name": "LayoutView",
            "grid_template_rows": null,
            "right": null,
            "justify_content": null,
            "_view_module": "@jupyter-widgets/base",
            "overflow": null,
            "_model_module_version": "1.2.0",
            "_view_count": null,
            "flex_flow": null,
            "width": null,
            "min_width": null,
            "border": null,
            "align_items": null,
            "bottom": null,
            "_model_module": "@jupyter-widgets/base",
            "top": null,
            "grid_column": null,
            "overflow_y": null,
            "overflow_x": null,
            "grid_auto_flow": null,
            "grid_area": null,
            "grid_template_columns": null,
            "flex": null,
            "_model_name": "LayoutModel",
            "justify_items": null,
            "grid_row": null,
            "max_height": null,
            "align_content": null,
            "visibility": null,
            "align_self": null,
            "height": null,
            "min_height": null,
            "padding": null,
            "grid_auto_rows": null,
            "grid_gap": null,
            "max_width": null,
            "order": null,
            "_view_module_version": "1.2.0",
            "grid_template_areas": null,
            "object_position": null,
            "object_fit": null,
            "grid_auto_columns": null,
            "margin": null,
            "display": null,
            "left": null
          }
        },
        "cc811f74cf1643ceacde0ac9a08fc0ee": {
          "model_module": "@jupyter-widgets/controls",
          "model_name": "VBoxModel",
          "model_module_version": "1.5.0",
          "state": {
            "_view_name": "VBoxView",
            "_dom_classes": [],
            "_model_name": "VBoxModel",
            "_view_module": "@jupyter-widgets/controls",
            "_model_module_version": "1.5.0",
            "_view_count": null,
            "_view_module_version": "1.5.0",
            "box_style": "",
            "layout": "IPY_MODEL_eb414ec04e4b48d598883949b40a0985",
            "_model_module": "@jupyter-widgets/controls",
            "children": [
              "IPY_MODEL_945c77f8424d4b49af26b963deb7945f",
              "IPY_MODEL_77e9c95f55924107bcbea5e7888ecaa4"
            ]
          }
        },
        "eb414ec04e4b48d598883949b40a0985": {
          "model_module": "@jupyter-widgets/base",
          "model_name": "LayoutModel",
          "model_module_version": "1.2.0",
          "state": {
            "_view_name": "LayoutView",
            "grid_template_rows": null,
            "right": null,
            "justify_content": null,
            "_view_module": "@jupyter-widgets/base",
            "overflow": null,
            "_model_module_version": "1.2.0",
            "_view_count": null,
            "flex_flow": null,
            "width": null,
            "min_width": null,
            "border": null,
            "align_items": null,
            "bottom": null,
            "_model_module": "@jupyter-widgets/base",
            "top": null,
            "grid_column": null,
            "overflow_y": null,
            "overflow_x": null,
            "grid_auto_flow": null,
            "grid_area": null,
            "grid_template_columns": null,
            "flex": null,
            "_model_name": "LayoutModel",
            "justify_items": null,
            "grid_row": null,
            "max_height": null,
            "align_content": null,
            "visibility": null,
            "align_self": null,
            "height": null,
            "min_height": null,
            "padding": null,
            "grid_auto_rows": null,
            "grid_gap": null,
            "max_width": null,
            "order": null,
            "_view_module_version": "1.2.0",
            "grid_template_areas": null,
            "object_position": null,
            "object_fit": null,
            "grid_auto_columns": null,
            "margin": null,
            "display": null,
            "left": null
          }
        },
        "945c77f8424d4b49af26b963deb7945f": {
          "model_module": "@jupyter-widgets/controls",
          "model_name": "HBoxModel",
          "model_module_version": "1.5.0",
          "state": {
            "_view_name": "HBoxView",
            "_dom_classes": [],
            "_model_name": "HBoxModel",
            "_view_module": "@jupyter-widgets/controls",
            "_model_module_version": "1.5.0",
            "_view_count": null,
            "_view_module_version": "1.5.0",
            "box_style": "",
            "layout": "IPY_MODEL_4115bf6cda79438d8e6b9b4b794523de",
            "_model_module": "@jupyter-widgets/controls",
            "children": [
              "IPY_MODEL_155aa08f18d348d8a035b19e41a6a060",
              "IPY_MODEL_7ed0b784baf24ac38ddc57f4114d17db"
            ]
          }
        },
        "77e9c95f55924107bcbea5e7888ecaa4": {
          "model_module": "@jupyter-widgets/controls",
          "model_name": "HBoxModel",
          "model_module_version": "1.5.0",
          "state": {
            "_view_name": "HBoxView",
            "_dom_classes": [],
            "_model_name": "HBoxModel",
            "_view_module": "@jupyter-widgets/controls",
            "_model_module_version": "1.5.0",
            "_view_count": null,
            "_view_module_version": "1.5.0",
            "box_style": "",
            "layout": "IPY_MODEL_bc33af2c9313467199d7690c32302318",
            "_model_module": "@jupyter-widgets/controls",
            "children": [
              "IPY_MODEL_4a51b595953941868a0ca3693cea738b",
              "IPY_MODEL_839a5e3ee14a4ad396099f7eff747fdc"
            ]
          }
        },
        "4115bf6cda79438d8e6b9b4b794523de": {
          "model_module": "@jupyter-widgets/base",
          "model_name": "LayoutModel",
          "model_module_version": "1.2.0",
          "state": {
            "_view_name": "LayoutView",
            "grid_template_rows": null,
            "right": null,
            "justify_content": null,
            "_view_module": "@jupyter-widgets/base",
            "overflow": null,
            "_model_module_version": "1.2.0",
            "_view_count": null,
            "flex_flow": null,
            "width": null,
            "min_width": null,
            "border": null,
            "align_items": null,
            "bottom": null,
            "_model_module": "@jupyter-widgets/base",
            "top": null,
            "grid_column": null,
            "overflow_y": null,
            "overflow_x": null,
            "grid_auto_flow": null,
            "grid_area": null,
            "grid_template_columns": null,
            "flex": null,
            "_model_name": "LayoutModel",
            "justify_items": null,
            "grid_row": null,
            "max_height": null,
            "align_content": null,
            "visibility": null,
            "align_self": null,
            "height": null,
            "min_height": null,
            "padding": null,
            "grid_auto_rows": null,
            "grid_gap": null,
            "max_width": null,
            "order": null,
            "_view_module_version": "1.2.0",
            "grid_template_areas": null,
            "object_position": null,
            "object_fit": null,
            "grid_auto_columns": null,
            "margin": null,
            "display": null,
            "left": null
          }
        },
        "155aa08f18d348d8a035b19e41a6a060": {
          "model_module": "@jupyter-widgets/controls",
          "model_name": "FileUploadModel",
          "model_module_version": "1.5.0",
          "state": {
            "_view_name": "FileUploadView",
            "_counter": 0,
            "style": "IPY_MODEL_75c65e59ced34ac0ae8cc990d78f6b96",
            "_dom_classes": [],
            "description": "Select data.csv",
            "multiple": false,
            "_model_name": "FileUploadModel",
            "data": [],
            "button_style": "",
            "_view_module": "@jupyter-widgets/controls",
            "_model_module_version": "1.5.0",
            "accept": ".csv",
            "_view_count": null,
            "disabled": false,
            "_view_module_version": "1.5.0",
            "error": "",
            "description_tooltip": null,
            "metadata": [],
            "_model_module": "@jupyter-widgets/controls",
            "layout": "IPY_MODEL_e76376dcd7ff4f2d9d318c04150568ed",
            "icon": "upload"
          }
        },
        "7ed0b784baf24ac38ddc57f4114d17db": {
          "model_module": "@jupyter-widgets/controls",
          "model_name": "ButtonModel",
          "model_module_version": "1.5.0",
          "state": {
            "_view_name": "ButtonView",
            "style": "IPY_MODEL_fa04efc562794b1482a05d115b17a854",
            "_dom_classes": [],
            "description": "Upload DATASET",
            "_model_name": "ButtonModel",
            "button_style": "info",
            "_view_module": "@jupyter-widgets/controls",
            "_model_module_version": "1.5.0",
            "tooltip": "",
            "_view_count": null,
            "disabled": false,
            "_view_module_version": "1.5.0",
            "layout": "IPY_MODEL_5eaa534d4574494e9738358c5b47a6d6",
            "_model_module": "@jupyter-widgets/controls",
            "icon": "check"
          }
        },
        "bc33af2c9313467199d7690c32302318": {
          "model_module": "@jupyter-widgets/base",
          "model_name": "LayoutModel",
          "model_module_version": "1.2.0",
          "state": {
            "_view_name": "LayoutView",
            "grid_template_rows": null,
            "right": null,
            "justify_content": null,
            "_view_module": "@jupyter-widgets/base",
            "overflow": null,
            "_model_module_version": "1.2.0",
            "_view_count": null,
            "flex_flow": null,
            "width": null,
            "min_width": null,
            "border": null,
            "align_items": null,
            "bottom": null,
            "_model_module": "@jupyter-widgets/base",
            "top": null,
            "grid_column": null,
            "overflow_y": null,
            "overflow_x": null,
            "grid_auto_flow": null,
            "grid_area": null,
            "grid_template_columns": null,
            "flex": null,
            "_model_name": "LayoutModel",
            "justify_items": null,
            "grid_row": null,
            "max_height": null,
            "align_content": null,
            "visibility": null,
            "align_self": null,
            "height": null,
            "min_height": null,
            "padding": null,
            "grid_auto_rows": null,
            "grid_gap": null,
            "max_width": null,
            "order": null,
            "_view_module_version": "1.2.0",
            "grid_template_areas": null,
            "object_position": null,
            "object_fit": null,
            "grid_auto_columns": null,
            "margin": null,
            "display": null,
            "left": null
          }
        },
        "4a51b595953941868a0ca3693cea738b": {
          "model_module": "@jupyter-widgets/controls",
          "model_name": "FileUploadModel",
          "model_module_version": "1.5.0",
          "state": {
            "_view_name": "FileUploadView",
            "_counter": 0,
            "style": "IPY_MODEL_0a65902fe4f74dee9b38c9176258e886",
            "_dom_classes": [],
            "description": "Select dag.txt",
            "multiple": false,
            "_model_name": "FileUploadModel",
            "data": [],
            "button_style": "",
            "_view_module": "@jupyter-widgets/controls",
            "_model_module_version": "1.5.0",
            "accept": ".txt",
            "_view_count": null,
            "disabled": false,
            "_view_module_version": "1.5.0",
            "error": "",
            "description_tooltip": null,
            "metadata": [],
            "_model_module": "@jupyter-widgets/controls",
            "layout": "IPY_MODEL_6cf5ea19297947edb49b03e01d5e851c",
            "icon": "upload"
          }
        },
        "839a5e3ee14a4ad396099f7eff747fdc": {
          "model_module": "@jupyter-widgets/controls",
          "model_name": "ButtonModel",
          "model_module_version": "1.5.0",
          "state": {
            "_view_name": "ButtonView",
            "style": "IPY_MODEL_4d51932b51844d3594d4015f26bb7fe0",
            "_dom_classes": [],
            "description": "Upload DAG",
            "_model_name": "ButtonModel",
            "button_style": "info",
            "_view_module": "@jupyter-widgets/controls",
            "_model_module_version": "1.5.0",
            "tooltip": "",
            "_view_count": null,
            "disabled": false,
            "_view_module_version": "1.5.0",
            "layout": "IPY_MODEL_af6fa85ca4544cd5b072da459e870349",
            "_model_module": "@jupyter-widgets/controls",
            "icon": "check"
          }
        },
        "75c65e59ced34ac0ae8cc990d78f6b96": {
          "model_module": "@jupyter-widgets/controls",
          "model_name": "ButtonStyleModel",
          "model_module_version": "1.5.0",
          "state": {
            "_view_name": "StyleView",
            "_model_name": "ButtonStyleModel",
            "_view_module": "@jupyter-widgets/base",
            "_model_module_version": "1.5.0",
            "_view_count": null,
            "button_color": null,
            "font_weight": "",
            "_view_module_version": "1.2.0",
            "_model_module": "@jupyter-widgets/controls"
          }
        },
        "e76376dcd7ff4f2d9d318c04150568ed": {
          "model_module": "@jupyter-widgets/base",
          "model_name": "LayoutModel",
          "model_module_version": "1.2.0",
          "state": {
            "_view_name": "LayoutView",
            "grid_template_rows": null,
            "right": null,
            "justify_content": null,
            "_view_module": "@jupyter-widgets/base",
            "overflow": null,
            "_model_module_version": "1.2.0",
            "_view_count": null,
            "flex_flow": null,
            "width": null,
            "min_width": null,
            "border": null,
            "align_items": null,
            "bottom": null,
            "_model_module": "@jupyter-widgets/base",
            "top": null,
            "grid_column": null,
            "overflow_y": null,
            "overflow_x": null,
            "grid_auto_flow": null,
            "grid_area": null,
            "grid_template_columns": null,
            "flex": null,
            "_model_name": "LayoutModel",
            "justify_items": null,
            "grid_row": null,
            "max_height": null,
            "align_content": null,
            "visibility": null,
            "align_self": null,
            "height": null,
            "min_height": null,
            "padding": null,
            "grid_auto_rows": null,
            "grid_gap": null,
            "max_width": null,
            "order": null,
            "_view_module_version": "1.2.0",
            "grid_template_areas": null,
            "object_position": null,
            "object_fit": null,
            "grid_auto_columns": null,
            "margin": null,
            "display": null,
            "left": null
          }
        },
        "fa04efc562794b1482a05d115b17a854": {
          "model_module": "@jupyter-widgets/controls",
          "model_name": "ButtonStyleModel",
          "model_module_version": "1.5.0",
          "state": {
            "_view_name": "StyleView",
            "_model_name": "ButtonStyleModel",
            "_view_module": "@jupyter-widgets/base",
            "_model_module_version": "1.5.0",
            "_view_count": null,
            "button_color": null,
            "font_weight": "",
            "_view_module_version": "1.2.0",
            "_model_module": "@jupyter-widgets/controls"
          }
        },
        "5eaa534d4574494e9738358c5b47a6d6": {
          "model_module": "@jupyter-widgets/base",
          "model_name": "LayoutModel",
          "model_module_version": "1.2.0",
          "state": {
            "_view_name": "LayoutView",
            "grid_template_rows": null,
            "right": null,
            "justify_content": null,
            "_view_module": "@jupyter-widgets/base",
            "overflow": null,
            "_model_module_version": "1.2.0",
            "_view_count": null,
            "flex_flow": null,
            "width": null,
            "min_width": null,
            "border": null,
            "align_items": null,
            "bottom": null,
            "_model_module": "@jupyter-widgets/base",
            "top": null,
            "grid_column": null,
            "overflow_y": null,
            "overflow_x": null,
            "grid_auto_flow": null,
            "grid_area": null,
            "grid_template_columns": null,
            "flex": null,
            "_model_name": "LayoutModel",
            "justify_items": null,
            "grid_row": null,
            "max_height": null,
            "align_content": null,
            "visibility": null,
            "align_self": null,
            "height": null,
            "min_height": null,
            "padding": null,
            "grid_auto_rows": null,
            "grid_gap": null,
            "max_width": null,
            "order": null,
            "_view_module_version": "1.2.0",
            "grid_template_areas": null,
            "object_position": null,
            "object_fit": null,
            "grid_auto_columns": null,
            "margin": null,
            "display": null,
            "left": null
          }
        },
        "0a65902fe4f74dee9b38c9176258e886": {
          "model_module": "@jupyter-widgets/controls",
          "model_name": "ButtonStyleModel",
          "model_module_version": "1.5.0",
          "state": {
            "_view_name": "StyleView",
            "_model_name": "ButtonStyleModel",
            "_view_module": "@jupyter-widgets/base",
            "_model_module_version": "1.5.0",
            "_view_count": null,
            "button_color": null,
            "font_weight": "",
            "_view_module_version": "1.2.0",
            "_model_module": "@jupyter-widgets/controls"
          }
        },
        "6cf5ea19297947edb49b03e01d5e851c": {
          "model_module": "@jupyter-widgets/base",
          "model_name": "LayoutModel",
          "model_module_version": "1.2.0",
          "state": {
            "_view_name": "LayoutView",
            "grid_template_rows": null,
            "right": null,
            "justify_content": null,
            "_view_module": "@jupyter-widgets/base",
            "overflow": null,
            "_model_module_version": "1.2.0",
            "_view_count": null,
            "flex_flow": null,
            "width": null,
            "min_width": null,
            "border": null,
            "align_items": null,
            "bottom": null,
            "_model_module": "@jupyter-widgets/base",
            "top": null,
            "grid_column": null,
            "overflow_y": null,
            "overflow_x": null,
            "grid_auto_flow": null,
            "grid_area": null,
            "grid_template_columns": null,
            "flex": null,
            "_model_name": "LayoutModel",
            "justify_items": null,
            "grid_row": null,
            "max_height": null,
            "align_content": null,
            "visibility": null,
            "align_self": null,
            "height": null,
            "min_height": null,
            "padding": null,
            "grid_auto_rows": null,
            "grid_gap": null,
            "max_width": null,
            "order": null,
            "_view_module_version": "1.2.0",
            "grid_template_areas": null,
            "object_position": null,
            "object_fit": null,
            "grid_auto_columns": null,
            "margin": null,
            "display": null,
            "left": null
          }
        },
        "4d51932b51844d3594d4015f26bb7fe0": {
          "model_module": "@jupyter-widgets/controls",
          "model_name": "ButtonStyleModel",
          "model_module_version": "1.5.0",
          "state": {
            "_view_name": "StyleView",
            "_model_name": "ButtonStyleModel",
            "_view_module": "@jupyter-widgets/base",
            "_model_module_version": "1.5.0",
            "_view_count": null,
            "button_color": null,
            "font_weight": "",
            "_view_module_version": "1.2.0",
            "_model_module": "@jupyter-widgets/controls"
          }
        },
        "af6fa85ca4544cd5b072da459e870349": {
          "model_module": "@jupyter-widgets/base",
          "model_name": "LayoutModel",
          "model_module_version": "1.2.0",
          "state": {
            "_view_name": "LayoutView",
            "grid_template_rows": null,
            "right": null,
            "justify_content": null,
            "_view_module": "@jupyter-widgets/base",
            "overflow": null,
            "_model_module_version": "1.2.0",
            "_view_count": null,
            "flex_flow": null,
            "width": null,
            "min_width": null,
            "border": null,
            "align_items": null,
            "bottom": null,
            "_model_module": "@jupyter-widgets/base",
            "top": null,
            "grid_column": null,
            "overflow_y": null,
            "overflow_x": null,
            "grid_auto_flow": null,
            "grid_area": null,
            "grid_template_columns": null,
            "flex": null,
            "_model_name": "LayoutModel",
            "justify_items": null,
            "grid_row": null,
            "max_height": null,
            "align_content": null,
            "visibility": null,
            "align_self": null,
            "height": null,
            "min_height": null,
            "padding": null,
            "grid_auto_rows": null,
            "grid_gap": null,
            "max_width": null,
            "order": null,
            "_view_module_version": "1.2.0",
            "grid_template_areas": null,
            "object_position": null,
            "object_fit": null,
            "grid_auto_columns": null,
            "margin": null,
            "display": null,
            "left": null
          }
        },
        "d8efcc187ca54538ac52579118646369": {
          "model_module": "@jupyter-widgets/controls",
          "model_name": "FloatSliderModel",
          "model_module_version": "1.5.0",
          "state": {
            "_view_name": "FloatSliderView",
            "style": "IPY_MODEL_7c1bb3388d4b4d5982a376156f5ffed5",
            "_dom_classes": [],
            "description": "α",
            "step": 0.1,
            "_model_name": "FloatSliderModel",
            "orientation": "horizontal",
            "max": 100,
            "_view_module": "@jupyter-widgets/controls",
            "_model_module_version": "1.5.0",
            "value": 0,
            "_view_count": null,
            "disabled": false,
            "_view_module_version": "1.5.0",
            "min": 0,
            "continuous_update": true,
            "readout_format": ".2f",
            "description_tooltip": null,
            "readout": true,
            "_model_module": "@jupyter-widgets/controls",
            "layout": "IPY_MODEL_3749da0b7bb84a7e80f669e5465bb385"
          }
        },
        "7c1bb3388d4b4d5982a376156f5ffed5": {
          "model_module": "@jupyter-widgets/controls",
          "model_name": "SliderStyleModel",
          "model_module_version": "1.5.0",
          "state": {
            "_view_name": "StyleView",
            "handle_color": null,
            "_model_name": "SliderStyleModel",
            "description_width": "",
            "_view_module": "@jupyter-widgets/base",
            "_model_module_version": "1.5.0",
            "_view_count": null,
            "_view_module_version": "1.2.0",
            "_model_module": "@jupyter-widgets/controls"
          }
        },
        "3749da0b7bb84a7e80f669e5465bb385": {
          "model_module": "@jupyter-widgets/base",
          "model_name": "LayoutModel",
          "model_module_version": "1.2.0",
          "state": {
            "_view_name": "LayoutView",
            "grid_template_rows": null,
            "right": null,
            "justify_content": null,
            "_view_module": "@jupyter-widgets/base",
            "overflow": null,
            "_model_module_version": "1.2.0",
            "_view_count": null,
            "flex_flow": null,
            "width": null,
            "min_width": null,
            "border": null,
            "align_items": null,
            "bottom": null,
            "_model_module": "@jupyter-widgets/base",
            "top": null,
            "grid_column": null,
            "overflow_y": null,
            "overflow_x": null,
            "grid_auto_flow": null,
            "grid_area": null,
            "grid_template_columns": null,
            "flex": null,
            "_model_name": "LayoutModel",
            "justify_items": null,
            "grid_row": null,
            "max_height": null,
            "align_content": null,
            "visibility": null,
            "align_self": null,
            "height": null,
            "min_height": null,
            "padding": null,
            "grid_auto_rows": null,
            "grid_gap": null,
            "max_width": null,
            "order": null,
            "_view_module_version": "1.2.0",
            "grid_template_areas": null,
            "object_position": null,
            "object_fit": null,
            "grid_auto_columns": null,
            "margin": null,
            "display": null,
            "left": null
          }
        },
        "860014061b1647c9a968423aa452cd42": {
          "model_module": "@jupyter-widgets/controls",
          "model_name": "VBoxModel",
          "model_module_version": "1.5.0",
          "state": {
            "_view_name": "VBoxView",
            "_dom_classes": [],
            "_model_name": "VBoxModel",
            "_view_module": "@jupyter-widgets/controls",
            "_model_module_version": "1.5.0",
            "_view_count": null,
            "_view_module_version": "1.5.0",
            "box_style": "",
            "layout": "IPY_MODEL_3797f7307cae43c1bb84f7eef901730c",
            "_model_module": "@jupyter-widgets/controls",
            "children": [
              "IPY_MODEL_65e98f9c8e9f48868c6c71cbe72c3b91",
              "IPY_MODEL_9be9e3ce19c042269aeec3d19dd73486"
            ]
          }
        },
        "3797f7307cae43c1bb84f7eef901730c": {
          "model_module": "@jupyter-widgets/base",
          "model_name": "LayoutModel",
          "model_module_version": "1.2.0",
          "state": {
            "_view_name": "LayoutView",
            "grid_template_rows": null,
            "right": null,
            "justify_content": null,
            "_view_module": "@jupyter-widgets/base",
            "overflow": null,
            "_model_module_version": "1.2.0",
            "_view_count": null,
            "flex_flow": null,
            "width": null,
            "min_width": null,
            "border": null,
            "align_items": null,
            "bottom": null,
            "_model_module": "@jupyter-widgets/base",
            "top": null,
            "grid_column": null,
            "overflow_y": null,
            "overflow_x": null,
            "grid_auto_flow": null,
            "grid_area": null,
            "grid_template_columns": null,
            "flex": null,
            "_model_name": "LayoutModel",
            "justify_items": null,
            "grid_row": null,
            "max_height": null,
            "align_content": null,
            "visibility": null,
            "align_self": null,
            "height": null,
            "min_height": null,
            "padding": null,
            "grid_auto_rows": null,
            "grid_gap": null,
            "max_width": null,
            "order": null,
            "_view_module_version": "1.2.0",
            "grid_template_areas": null,
            "object_position": null,
            "object_fit": null,
            "grid_auto_columns": null,
            "margin": null,
            "display": null,
            "left": null
          }
        },
        "65e98f9c8e9f48868c6c71cbe72c3b91": {
          "model_module": "@jupyter-widgets/controls",
          "model_name": "HBoxModel",
          "model_module_version": "1.5.0",
          "state": {
            "_view_name": "HBoxView",
            "_dom_classes": [],
            "_model_name": "HBoxModel",
            "_view_module": "@jupyter-widgets/controls",
            "_model_module_version": "1.5.0",
            "_view_count": null,
            "_view_module_version": "1.5.0",
            "box_style": "",
            "layout": "IPY_MODEL_a867896ad2f54f668c3f6bea0e504353",
            "_model_module": "@jupyter-widgets/controls",
            "children": [
              "IPY_MODEL_229888bf7aa44289b212977b0611fd65",
              "IPY_MODEL_974c65cf6b9b490993019c2f916f70ba"
            ]
          }
        },
        "9be9e3ce19c042269aeec3d19dd73486": {
          "model_module": "@jupyter-widgets/controls",
          "model_name": "HBoxModel",
          "model_module_version": "1.5.0",
          "state": {
            "_view_name": "HBoxView",
            "_dom_classes": [],
            "_model_name": "HBoxModel",
            "_view_module": "@jupyter-widgets/controls",
            "_model_module_version": "1.5.0",
            "_view_count": null,
            "_view_module_version": "1.5.0",
            "box_style": "",
            "layout": "IPY_MODEL_dcb251ae002d4f4791045d41577c23b7",
            "_model_module": "@jupyter-widgets/controls",
            "children": [
              "IPY_MODEL_994aa0eb30d947208b108e6fa41e4cf6",
              "IPY_MODEL_a5e2c4c2bdd44d3697da09a493e1acc2",
              "IPY_MODEL_e902511b5aa14a3a8a56b041ca5804be"
            ]
          }
        },
        "a867896ad2f54f668c3f6bea0e504353": {
          "model_module": "@jupyter-widgets/base",
          "model_name": "LayoutModel",
          "model_module_version": "1.2.0",
          "state": {
            "_view_name": "LayoutView",
            "grid_template_rows": null,
            "right": null,
            "justify_content": null,
            "_view_module": "@jupyter-widgets/base",
            "overflow": null,
            "_model_module_version": "1.2.0",
            "_view_count": null,
            "flex_flow": null,
            "width": null,
            "min_width": null,
            "border": null,
            "align_items": null,
            "bottom": null,
            "_model_module": "@jupyter-widgets/base",
            "top": null,
            "grid_column": null,
            "overflow_y": null,
            "overflow_x": null,
            "grid_auto_flow": null,
            "grid_area": null,
            "grid_template_columns": null,
            "flex": null,
            "_model_name": "LayoutModel",
            "justify_items": null,
            "grid_row": null,
            "max_height": null,
            "align_content": null,
            "visibility": null,
            "align_self": null,
            "height": null,
            "min_height": null,
            "padding": null,
            "grid_auto_rows": null,
            "grid_gap": null,
            "max_width": null,
            "order": null,
            "_view_module_version": "1.2.0",
            "grid_template_areas": null,
            "object_position": null,
            "object_fit": null,
            "grid_auto_columns": null,
            "margin": null,
            "display": null,
            "left": null
          }
        },
        "229888bf7aa44289b212977b0611fd65": {
          "model_module": "@jupyter-widgets/controls",
          "model_name": "TextModel",
          "model_module_version": "1.5.0",
          "state": {
            "_view_name": "TextView",
            "style": "IPY_MODEL_ef4ff5096f8c47faa992e04dcbe63447",
            "_dom_classes": [],
            "description": "BEGIN:",
            "_model_name": "TextModel",
            "placeholder": "Type something",
            "_view_module": "@jupyter-widgets/controls",
            "_model_module_version": "1.5.0",
            "value": "forecast",
            "_view_count": null,
            "disabled": false,
            "_view_module_version": "1.5.0",
            "continuous_update": true,
            "description_tooltip": null,
            "_model_module": "@jupyter-widgets/controls",
            "layout": "IPY_MODEL_05a7be4b37df46d09d28efe1b7d549d6"
          }
        },
        "974c65cf6b9b490993019c2f916f70ba": {
          "model_module": "@jupyter-widgets/controls",
          "model_name": "TextModel",
          "model_module_version": "1.5.0",
          "state": {
            "_view_name": "TextView",
            "style": "IPY_MODEL_6270a701b5494caf8acdcf4da0ee383c",
            "_dom_classes": [],
            "description": "END:",
            "_model_name": "TextModel",
            "placeholder": "Type something",
            "_view_module": "@jupyter-widgets/controls",
            "_model_module_version": "1.5.0",
            "value": "forecast",
            "_view_count": null,
            "disabled": false,
            "_view_module_version": "1.5.0",
            "continuous_update": true,
            "description_tooltip": null,
            "_model_module": "@jupyter-widgets/controls",
            "layout": "IPY_MODEL_193c57c4a7184ce08b8050fc6cc122cc"
          }
        },
        "dcb251ae002d4f4791045d41577c23b7": {
          "model_module": "@jupyter-widgets/base",
          "model_name": "LayoutModel",
          "model_module_version": "1.2.0",
          "state": {
            "_view_name": "LayoutView",
            "grid_template_rows": null,
            "right": null,
            "justify_content": null,
            "_view_module": "@jupyter-widgets/base",
            "overflow": null,
            "_model_module_version": "1.2.0",
            "_view_count": null,
            "flex_flow": null,
            "width": null,
            "min_width": null,
            "border": null,
            "align_items": null,
            "bottom": null,
            "_model_module": "@jupyter-widgets/base",
            "top": null,
            "grid_column": null,
            "overflow_y": null,
            "overflow_x": null,
            "grid_auto_flow": null,
            "grid_area": null,
            "grid_template_columns": null,
            "flex": null,
            "_model_name": "LayoutModel",
            "justify_items": null,
            "grid_row": null,
            "max_height": null,
            "align_content": null,
            "visibility": null,
            "align_self": null,
            "height": null,
            "min_height": null,
            "padding": null,
            "grid_auto_rows": null,
            "grid_gap": null,
            "max_width": null,
            "order": null,
            "_view_module_version": "1.2.0",
            "grid_template_areas": null,
            "object_position": null,
            "object_fit": null,
            "grid_auto_columns": null,
            "margin": null,
            "display": null,
            "left": null
          }
        },
        "994aa0eb30d947208b108e6fa41e4cf6": {
          "model_module": "@jupyter-widgets/controls",
          "model_name": "ButtonModel",
          "model_module_version": "1.5.0",
          "state": {
            "_view_name": "ButtonView",
            "style": "IPY_MODEL_0c43ea77a27140099a2c27dd73765861",
            "_dom_classes": [],
            "description": "ADD",
            "_model_name": "ButtonModel",
            "button_style": "info",
            "_view_module": "@jupyter-widgets/controls",
            "_model_module_version": "1.5.0",
            "tooltip": "",
            "_view_count": null,
            "disabled": false,
            "_view_module_version": "1.5.0",
            "layout": "IPY_MODEL_29d694bc306e4d5c9240e722aa0b2b3d",
            "_model_module": "@jupyter-widgets/controls",
            "icon": "check"
          }
        },
        "a5e2c4c2bdd44d3697da09a493e1acc2": {
          "model_module": "@jupyter-widgets/controls",
          "model_name": "ButtonModel",
          "model_module_version": "1.5.0",
          "state": {
            "_view_name": "ButtonView",
            "style": "IPY_MODEL_3e9245811b524bd8963859bd27511cad",
            "_dom_classes": [],
            "description": "DELETE",
            "_model_name": "ButtonModel",
            "button_style": "info",
            "_view_module": "@jupyter-widgets/controls",
            "_model_module_version": "1.5.0",
            "tooltip": "",
            "_view_count": null,
            "disabled": false,
            "_view_module_version": "1.5.0",
            "layout": "IPY_MODEL_cdb754e28910459091143f8de60091f6",
            "_model_module": "@jupyter-widgets/controls",
            "icon": "check"
          }
        },
        "e902511b5aa14a3a8a56b041ca5804be": {
          "model_module": "@jupyter-widgets/controls",
          "model_name": "ButtonModel",
          "model_module_version": "1.5.0",
          "state": {
            "_view_name": "ButtonView",
            "style": "IPY_MODEL_a353364f59764edbbe71d65b1cdd1a74",
            "_dom_classes": [],
            "description": "SHOW",
            "_model_name": "ButtonModel",
            "button_style": "info",
            "_view_module": "@jupyter-widgets/controls",
            "_model_module_version": "1.5.0",
            "tooltip": "",
            "_view_count": null,
            "disabled": false,
            "_view_module_version": "1.5.0",
            "layout": "IPY_MODEL_595f1c9df4374cffbdbf548be921c371",
            "_model_module": "@jupyter-widgets/controls",
            "icon": "check"
          }
        },
        "ef4ff5096f8c47faa992e04dcbe63447": {
          "model_module": "@jupyter-widgets/controls",
          "model_name": "DescriptionStyleModel",
          "model_module_version": "1.5.0",
          "state": {
            "_view_name": "StyleView",
            "_model_name": "DescriptionStyleModel",
            "description_width": "",
            "_view_module": "@jupyter-widgets/base",
            "_model_module_version": "1.5.0",
            "_view_count": null,
            "_view_module_version": "1.2.0",
            "_model_module": "@jupyter-widgets/controls"
          }
        },
        "05a7be4b37df46d09d28efe1b7d549d6": {
          "model_module": "@jupyter-widgets/base",
          "model_name": "LayoutModel",
          "model_module_version": "1.2.0",
          "state": {
            "_view_name": "LayoutView",
            "grid_template_rows": null,
            "right": null,
            "justify_content": null,
            "_view_module": "@jupyter-widgets/base",
            "overflow": null,
            "_model_module_version": "1.2.0",
            "_view_count": null,
            "flex_flow": null,
            "width": null,
            "min_width": null,
            "border": null,
            "align_items": null,
            "bottom": null,
            "_model_module": "@jupyter-widgets/base",
            "top": null,
            "grid_column": null,
            "overflow_y": null,
            "overflow_x": null,
            "grid_auto_flow": null,
            "grid_area": null,
            "grid_template_columns": null,
            "flex": null,
            "_model_name": "LayoutModel",
            "justify_items": null,
            "grid_row": null,
            "max_height": null,
            "align_content": null,
            "visibility": null,
            "align_self": null,
            "height": null,
            "min_height": null,
            "padding": null,
            "grid_auto_rows": null,
            "grid_gap": null,
            "max_width": null,
            "order": null,
            "_view_module_version": "1.2.0",
            "grid_template_areas": null,
            "object_position": null,
            "object_fit": null,
            "grid_auto_columns": null,
            "margin": null,
            "display": null,
            "left": null
          }
        },
        "6270a701b5494caf8acdcf4da0ee383c": {
          "model_module": "@jupyter-widgets/controls",
          "model_name": "DescriptionStyleModel",
          "model_module_version": "1.5.0",
          "state": {
            "_view_name": "StyleView",
            "_model_name": "DescriptionStyleModel",
            "description_width": "",
            "_view_module": "@jupyter-widgets/base",
            "_model_module_version": "1.5.0",
            "_view_count": null,
            "_view_module_version": "1.2.0",
            "_model_module": "@jupyter-widgets/controls"
          }
        },
        "193c57c4a7184ce08b8050fc6cc122cc": {
          "model_module": "@jupyter-widgets/base",
          "model_name": "LayoutModel",
          "model_module_version": "1.2.0",
          "state": {
            "_view_name": "LayoutView",
            "grid_template_rows": null,
            "right": null,
            "justify_content": null,
            "_view_module": "@jupyter-widgets/base",
            "overflow": null,
            "_model_module_version": "1.2.0",
            "_view_count": null,
            "flex_flow": null,
            "width": null,
            "min_width": null,
            "border": null,
            "align_items": null,
            "bottom": null,
            "_model_module": "@jupyter-widgets/base",
            "top": null,
            "grid_column": null,
            "overflow_y": null,
            "overflow_x": null,
            "grid_auto_flow": null,
            "grid_area": null,
            "grid_template_columns": null,
            "flex": null,
            "_model_name": "LayoutModel",
            "justify_items": null,
            "grid_row": null,
            "max_height": null,
            "align_content": null,
            "visibility": null,
            "align_self": null,
            "height": null,
            "min_height": null,
            "padding": null,
            "grid_auto_rows": null,
            "grid_gap": null,
            "max_width": null,
            "order": null,
            "_view_module_version": "1.2.0",
            "grid_template_areas": null,
            "object_position": null,
            "object_fit": null,
            "grid_auto_columns": null,
            "margin": null,
            "display": null,
            "left": null
          }
        },
        "0c43ea77a27140099a2c27dd73765861": {
          "model_module": "@jupyter-widgets/controls",
          "model_name": "ButtonStyleModel",
          "model_module_version": "1.5.0",
          "state": {
            "_view_name": "StyleView",
            "_model_name": "ButtonStyleModel",
            "_view_module": "@jupyter-widgets/base",
            "_model_module_version": "1.5.0",
            "_view_count": null,
            "button_color": null,
            "font_weight": "",
            "_view_module_version": "1.2.0",
            "_model_module": "@jupyter-widgets/controls"
          }
        },
        "29d694bc306e4d5c9240e722aa0b2b3d": {
          "model_module": "@jupyter-widgets/base",
          "model_name": "LayoutModel",
          "model_module_version": "1.2.0",
          "state": {
            "_view_name": "LayoutView",
            "grid_template_rows": null,
            "right": null,
            "justify_content": null,
            "_view_module": "@jupyter-widgets/base",
            "overflow": null,
            "_model_module_version": "1.2.0",
            "_view_count": null,
            "flex_flow": null,
            "width": null,
            "min_width": null,
            "border": null,
            "align_items": null,
            "bottom": null,
            "_model_module": "@jupyter-widgets/base",
            "top": null,
            "grid_column": null,
            "overflow_y": null,
            "overflow_x": null,
            "grid_auto_flow": null,
            "grid_area": null,
            "grid_template_columns": null,
            "flex": null,
            "_model_name": "LayoutModel",
            "justify_items": null,
            "grid_row": null,
            "max_height": null,
            "align_content": null,
            "visibility": null,
            "align_self": null,
            "height": null,
            "min_height": null,
            "padding": null,
            "grid_auto_rows": null,
            "grid_gap": null,
            "max_width": null,
            "order": null,
            "_view_module_version": "1.2.0",
            "grid_template_areas": null,
            "object_position": null,
            "object_fit": null,
            "grid_auto_columns": null,
            "margin": null,
            "display": null,
            "left": null
          }
        },
        "3e9245811b524bd8963859bd27511cad": {
          "model_module": "@jupyter-widgets/controls",
          "model_name": "ButtonStyleModel",
          "model_module_version": "1.5.0",
          "state": {
            "_view_name": "StyleView",
            "_model_name": "ButtonStyleModel",
            "_view_module": "@jupyter-widgets/base",
            "_model_module_version": "1.5.0",
            "_view_count": null,
            "button_color": null,
            "font_weight": "",
            "_view_module_version": "1.2.0",
            "_model_module": "@jupyter-widgets/controls"
          }
        },
        "cdb754e28910459091143f8de60091f6": {
          "model_module": "@jupyter-widgets/base",
          "model_name": "LayoutModel",
          "model_module_version": "1.2.0",
          "state": {
            "_view_name": "LayoutView",
            "grid_template_rows": null,
            "right": null,
            "justify_content": null,
            "_view_module": "@jupyter-widgets/base",
            "overflow": null,
            "_model_module_version": "1.2.0",
            "_view_count": null,
            "flex_flow": null,
            "width": null,
            "min_width": null,
            "border": null,
            "align_items": null,
            "bottom": null,
            "_model_module": "@jupyter-widgets/base",
            "top": null,
            "grid_column": null,
            "overflow_y": null,
            "overflow_x": null,
            "grid_auto_flow": null,
            "grid_area": null,
            "grid_template_columns": null,
            "flex": null,
            "_model_name": "LayoutModel",
            "justify_items": null,
            "grid_row": null,
            "max_height": null,
            "align_content": null,
            "visibility": null,
            "align_self": null,
            "height": null,
            "min_height": null,
            "padding": null,
            "grid_auto_rows": null,
            "grid_gap": null,
            "max_width": null,
            "order": null,
            "_view_module_version": "1.2.0",
            "grid_template_areas": null,
            "object_position": null,
            "object_fit": null,
            "grid_auto_columns": null,
            "margin": null,
            "display": null,
            "left": null
          }
        },
        "a353364f59764edbbe71d65b1cdd1a74": {
          "model_module": "@jupyter-widgets/controls",
          "model_name": "ButtonStyleModel",
          "model_module_version": "1.5.0",
          "state": {
            "_view_name": "StyleView",
            "_model_name": "ButtonStyleModel",
            "_view_module": "@jupyter-widgets/base",
            "_model_module_version": "1.5.0",
            "_view_count": null,
            "button_color": null,
            "font_weight": "",
            "_view_module_version": "1.2.0",
            "_model_module": "@jupyter-widgets/controls"
          }
        },
        "595f1c9df4374cffbdbf548be921c371": {
          "model_module": "@jupyter-widgets/base",
          "model_name": "LayoutModel",
          "model_module_version": "1.2.0",
          "state": {
            "_view_name": "LayoutView",
            "grid_template_rows": null,
            "right": null,
            "justify_content": null,
            "_view_module": "@jupyter-widgets/base",
            "overflow": null,
            "_model_module_version": "1.2.0",
            "_view_count": null,
            "flex_flow": null,
            "width": null,
            "min_width": null,
            "border": null,
            "align_items": null,
            "bottom": null,
            "_model_module": "@jupyter-widgets/base",
            "top": null,
            "grid_column": null,
            "overflow_y": null,
            "overflow_x": null,
            "grid_auto_flow": null,
            "grid_area": null,
            "grid_template_columns": null,
            "flex": null,
            "_model_name": "LayoutModel",
            "justify_items": null,
            "grid_row": null,
            "max_height": null,
            "align_content": null,
            "visibility": null,
            "align_self": null,
            "height": null,
            "min_height": null,
            "padding": null,
            "grid_auto_rows": null,
            "grid_gap": null,
            "max_width": null,
            "order": null,
            "_view_module_version": "1.2.0",
            "grid_template_areas": null,
            "object_position": null,
            "object_fit": null,
            "grid_auto_columns": null,
            "margin": null,
            "display": null,
            "left": null
          }
        }
      }
    }
  },
  "cells": [
    {
      "cell_type": "markdown",
      "metadata": {
        "id": "H_p5QDPtm-cq"
      },
      "source": [
        "#Examen Parcial\n",
        "##CC58 Tópicos en Ciencias de la Computación\n",
        "###Pedro Shiguihara\n",
        "####UPC 2021-1\n",
        "https://colab.research.google.com/drive/1RNYPtkCOOlIVgzwcBu47QGYxXc2vvCg-?usp=sharing"
      ]
    },
    {
      "cell_type": "markdown",
      "metadata": {
        "id": "cjjVhvsDm2Fy"
      },
      "source": [
        "---\n",
        "Integrantes:\n",
        "* Barrientos, Fiorella - u201711590\n",
        "* Salazar, Antonio - u201714978\n",
        "* Villarruel, Sergio - u20174083 "
      ]
    },
    {
      "cell_type": "code",
      "metadata": {
        "colab": {
          "base_uri": "https://localhost:8080/"
        },
        "id": "sKopDHRgGtfs",
        "outputId": "9f2a6d8a-24c2-4438-f9ed-d6d9bfb25a8d"
      },
      "source": [
        "%%writefile data.txt\n",
        "3\n",
        "2,2,3\n",
        "2\n",
        "0->1\n",
        "1->2\n",
        "1.0\n",
        "10\n",
        "0,0,0\n",
        "0,0,1\n",
        "0,1,0\n",
        "1,0,0\n",
        "0,1,2\n",
        "0,1,2\n",
        "1,1,0\n",
        "0,1,0\n",
        "1,0,1\n",
        "1,1,1"
      ],
      "execution_count": null,
      "outputs": [
        {
          "output_type": "stream",
          "text": [
            "Writing data.txt\n"
          ],
          "name": "stdout"
        }
      ]
    },
    {
      "cell_type": "code",
      "metadata": {
        "id": "FYUit8JkTm2z"
      },
      "source": [
        "import ipywidgets as widgets\n",
        "#https://colab.research.google.com/drive/1HnkyKNSvUqcsJkh5yGYCcZxBaCgxsQLl?usp=sharing"
      ],
      "execution_count": null,
      "outputs": []
    },
    {
      "cell_type": "code",
      "metadata": {
        "id": "bpORs0AuFKJR"
      },
      "source": [
        "class Dataframe:\n",
        "    \"\"\"\n",
        "    CREA UN OBJETO DATAFRAME QUE IMPLEMENTA MÉTODOS DE FUNCIÓN DE CONTEO\n",
        "    CARDINALIDAD, PROBABILIDAD MARGINAL, Y PROBABILIDAD CONJUNTA\n",
        "    \"\"\"\n",
        "    def __init__(self,path):\n",
        "        #LECTURA DE DATOS\n",
        "        #RECOLECCION DE FILAS\n",
        "        finput = open(path,\"r\")\n",
        "        self.n_var = 0\n",
        "        self.ca\n",
        "        self.n_var = int(finput.readline().rstrip()) # Numero de variables\n",
        "        self.card=[]\n",
        "        self.headers=[]\n",
        "        self.c = finput.readline().rstrip().split(',') # Cardinalidad\n",
        "        for i in range(self.n_var):\n",
        "          self.card.append(int(self.c[i]))\n",
        "          self.headers.append(i)\n",
        "        self.n_edges = int(finput.readline().rstrip()) # Numero de aristas\n",
        "        self.edges = [[] for _ in range(self.n_var)]   # Aristas\n",
        "        for _ in range(self.n_edges):\n",
        "            left, right = finput.readline().rstrip().split('->')\n",
        "            self.edges[int(right)].append(int(left)) # Leer aristas\n",
        "        self.hiper_param = float(finput.readline().rstrip()) # Hiperparametro de dirichlet\n",
        "        self.M = int(finput.readline().rstrip()) # Numero de instancias\n",
        "        self.data = [[] for _ in range(self.M)] # Data\n",
        "        for i in range(self.M):\n",
        "          data_split = finput.readline().rstrip().split(',')\n",
        "          for val in data_split:\n",
        "              self.data[i].append(int(val))\n",
        "        finput.close()\n",
        "        self.cols = []\n",
        "        # OBTENER VALORES DISTINTOS DE CADA COLUMNA\n",
        "        self.unique_val = dict()\n",
        "        for i, head in enumerate(self.headers):\n",
        "            self.unique_val[head] = list()\n",
        "            for row in self.data:\n",
        "                if row[i] not in self.unique_val[head]:\n",
        "                    self.unique_val[head].append(row[i])\n",
        "    \n",
        "    #IMPRIMIR DATASET\n",
        "    def __str__(self):\n",
        "        result = \"\"\"\"\"\"\n",
        "        for head in self.headers:\n",
        "            result += '|{:>11}| '.format(head)\n",
        "        result+=\"\\n---------------------------------------------------------------------\\n\"\n",
        "        for row in self.data:\n",
        "            for val in row:\n",
        "                result+='|{:>11}| '.format(val)\n",
        "            result+=\"\\n\"\n",
        "        return result\n",
        "\n",
        "    # #FUNCIÓN CARDINALIDAD\n",
        "    # def card(self, column):\n",
        "    #     try:\n",
        "    #         return len(self.unique_val[column])\n",
        "    #     except:\n",
        "    #         print(\"No se encuentra la columna\")\n",
        "\n",
        "    #FUNCIÓN CONTEO\n",
        "    def rep(self, params):\n",
        "        cnt = 0\n",
        "        for row in self.data:\n",
        "            ok = True\n",
        "            for x in params:\n",
        "              if(row[x[0]] != x[1]):\n",
        "                ok = False\n",
        "            if(ok):\n",
        "              cnt+= 1\n",
        "        return cnt\n",
        "\n",
        "    def prob_general(self, params, factor):\n",
        "        # (m[value] + p) / (M + (p * card(column))\n",
        "        exp1 = self.rep(params) + self.hiper_param\n",
        "        exp2 = self.M + (self.hiper_param * factor)\n",
        "        return round(exp1/exp2,6)    \n",
        "\n",
        "    def get_dag(self):\n",
        "      size = 0\n",
        "      self.dag = []\n",
        "      indexx = 0\n",
        "      while len(self.dag) < len(self.edges):\n",
        "          for i, val in enumerate(self.edges):\n",
        "            if not val and not self.dag:\n",
        "              self.dag.append(i)\n",
        "              break\n",
        "            else:\n",
        "              if val:\n",
        "                if self.dag[indexx] == val[0]:\n",
        "                  self.dag.append(i)\n",
        "                  indexx += 1\n",
        "                  break\n",
        "\n",
        "    def get_query(self):\n",
        "      self.get_dag()\n",
        "      query = []\n",
        "      for col in self.dag:\n",
        "        query.append([col,0])\n",
        "      return query\n",
        "\n",
        "    def fact(self):\n",
        "      factores=[]\n",
        "      for i in range(self.n_var):\n",
        "        factores.append(get_factor(self,i))\n",
        "      return factores"
      ],
      "execution_count": null,
      "outputs": []
    },
    {
      "cell_type": "code",
      "metadata": {
        "colab": {
          "base_uri": "https://localhost:8080/",
          "height": 333
        },
        "id": "-DLI9Ez9OEHE",
        "outputId": "59af3bac-3a85-4400-a108-c032e2c1a77a"
      },
      "source": [
        "df = Dataframe(\"data.txt\")\n",
        "print(df)\n",
        "print(df.edges)"
      ],
      "execution_count": null,
      "outputs": [
        {
          "output_type": "error",
          "ename": "AttributeError",
          "evalue": "ignored",
          "traceback": [
            "\u001b[0;31m---------------------------------------------------------------------------\u001b[0m",
            "\u001b[0;31mAttributeError\u001b[0m                            Traceback (most recent call last)",
            "\u001b[0;32m<ipython-input-4-cfc2a2f55404>\u001b[0m in \u001b[0;36m<module>\u001b[0;34m()\u001b[0m\n\u001b[0;32m----> 1\u001b[0;31m \u001b[0mdf\u001b[0m \u001b[0;34m=\u001b[0m \u001b[0mDataframe\u001b[0m\u001b[0;34m(\u001b[0m\u001b[0;34m\"data.txt\"\u001b[0m\u001b[0;34m)\u001b[0m\u001b[0;34m\u001b[0m\u001b[0;34m\u001b[0m\u001b[0m\n\u001b[0m\u001b[1;32m      2\u001b[0m \u001b[0mprint\u001b[0m\u001b[0;34m(\u001b[0m\u001b[0mdf\u001b[0m\u001b[0;34m)\u001b[0m\u001b[0;34m\u001b[0m\u001b[0;34m\u001b[0m\u001b[0m\n\u001b[1;32m      3\u001b[0m \u001b[0mprint\u001b[0m\u001b[0;34m(\u001b[0m\u001b[0mdf\u001b[0m\u001b[0;34m.\u001b[0m\u001b[0medges\u001b[0m\u001b[0;34m)\u001b[0m\u001b[0;34m\u001b[0m\u001b[0;34m\u001b[0m\u001b[0m\n",
            "\u001b[0;32m<ipython-input-3-6c676aa91ef5>\u001b[0m in \u001b[0;36m__init__\u001b[0;34m(self, path)\u001b[0m\n\u001b[1;32m      9\u001b[0m         \u001b[0mfinput\u001b[0m \u001b[0;34m=\u001b[0m \u001b[0mopen\u001b[0m\u001b[0;34m(\u001b[0m\u001b[0mpath\u001b[0m\u001b[0;34m,\u001b[0m\u001b[0;34m\"r\"\u001b[0m\u001b[0;34m)\u001b[0m\u001b[0;34m\u001b[0m\u001b[0;34m\u001b[0m\u001b[0m\n\u001b[1;32m     10\u001b[0m         \u001b[0mself\u001b[0m\u001b[0;34m.\u001b[0m\u001b[0mn_var\u001b[0m \u001b[0;34m=\u001b[0m \u001b[0;36m0\u001b[0m\u001b[0;34m\u001b[0m\u001b[0;34m\u001b[0m\u001b[0m\n\u001b[0;32m---> 11\u001b[0;31m         \u001b[0mself\u001b[0m\u001b[0;34m.\u001b[0m\u001b[0mca\u001b[0m\u001b[0;34m\u001b[0m\u001b[0;34m\u001b[0m\u001b[0m\n\u001b[0m\u001b[1;32m     12\u001b[0m         \u001b[0mself\u001b[0m\u001b[0;34m.\u001b[0m\u001b[0mn_var\u001b[0m \u001b[0;34m=\u001b[0m \u001b[0mint\u001b[0m\u001b[0;34m(\u001b[0m\u001b[0mfinput\u001b[0m\u001b[0;34m.\u001b[0m\u001b[0mreadline\u001b[0m\u001b[0;34m(\u001b[0m\u001b[0;34m)\u001b[0m\u001b[0;34m.\u001b[0m\u001b[0mrstrip\u001b[0m\u001b[0;34m(\u001b[0m\u001b[0;34m)\u001b[0m\u001b[0;34m)\u001b[0m \u001b[0;31m# Numero de variables\u001b[0m\u001b[0;34m\u001b[0m\u001b[0;34m\u001b[0m\u001b[0m\n\u001b[1;32m     13\u001b[0m         \u001b[0mself\u001b[0m\u001b[0;34m.\u001b[0m\u001b[0mcard\u001b[0m\u001b[0;34m=\u001b[0m\u001b[0;34m[\u001b[0m\u001b[0;34m]\u001b[0m\u001b[0;34m\u001b[0m\u001b[0;34m\u001b[0m\u001b[0m\n",
            "\u001b[0;31mAttributeError\u001b[0m: 'Dataframe' object has no attribute 'ca'"
          ]
        }
      ]
    },
    {
      "cell_type": "code",
      "metadata": {
        "id": "ATACYO_g2k5w"
      },
      "source": [
        "def normalize(arr):\n",
        "  s = 0\n",
        "  ans = []\n",
        "\n",
        "  for x in arr:\n",
        "    s+= x\n",
        "  \n",
        "  for x in arr:\n",
        "    ans.append(x/s)\n",
        "  \n",
        "  return ans"
      ],
      "execution_count": null,
      "outputs": []
    },
    {
      "cell_type": "code",
      "metadata": {
        "id": "2rnjNdm1Xx6-"
      },
      "source": [
        "def get_factor(df, id):\n",
        "\n",
        "  def add_column(M, col):\n",
        "    for i in range(len(col)):\n",
        "      M[i].append(col[i])\n",
        "\n",
        "  cols = [id] + df.edges[id]\n",
        "\n",
        "  uniqs = []\n",
        "  cnt = []\n",
        "  ids = []\n",
        "  vuelta = []\n",
        "  total = 1\n",
        "\n",
        "  for x in cols:\n",
        "\n",
        "      uniqs.append([i for i in range(df.card[x])])\n",
        "      ids.append(total)\n",
        "          \n",
        "      total*= df.card[x]\n",
        "      \n",
        "      cnt.append(0)\n",
        "      vuelta.append(0)\n",
        "\n",
        "  D = []\n",
        "  c_ans = []\n",
        "  c_norm = []\n",
        "  M = []\n",
        "\n",
        "  for u in range(total):\n",
        "      vals = []\n",
        "      i = 0\n",
        "      for x in cols:\n",
        "          vals.append([x, uniqs[i][cnt[i]]])\n",
        "          i+= 1\n",
        "      \n",
        "      M.append( [e[1] for e in vals] )\n",
        "\n",
        "      exp1 = df.prob_general(vals, total)\n",
        "      exp2 = df.prob_general(vals[1:], total/df.card[id])\n",
        "\n",
        "      if(len(df.edges[id]) == 0):\n",
        "        D.append(exp1)\n",
        "      \n",
        "      else:\n",
        "        D.append(exp1/exp2)\n",
        "\n",
        "      for j in range(len(cols)):\n",
        "          vuelta[j]+= 1\n",
        "          if(vuelta[j] == ids[j]):\n",
        "              cnt[j] = (cnt[j] + 1)%len(uniqs[j])\n",
        "              vuelta[j] = 0\n",
        "\n",
        "      if(len(D) == df.card[id]):\n",
        "        c_ans+= D\n",
        "        c_norm+= normalize(D)\n",
        "        D = []\n",
        "        \n",
        "  # Agregando columnas\n",
        "  add_column(M, c_ans)\n",
        "  add_column(M, c_norm)\n",
        "\n",
        "  return M\n"
      ],
      "execution_count": null,
      "outputs": []
    },
    {
      "cell_type": "code",
      "metadata": {
        "id": "bNJFZ4lRDyqO"
      },
      "source": [
        "def titulos():\n",
        "  titles_comb=[]\n",
        "  for i in range(len(df.headers)):\n",
        "    x = df.headers[i]\n",
        "    s = \"P(\" + str(x)\n",
        "    if (len(df.edges[x]) > 0):\n",
        "      s += '|' \n",
        "      edge_list = df.edges[x]\n",
        "      for j in range(len(edge_list)):\n",
        "        if(j != 0):\n",
        "          s+= \",\"\n",
        "        s += str(edge_list[j])\n",
        "    s+=\")\"\n",
        "    titles_comb.append(s)\n",
        "  return titles_comb"
      ],
      "execution_count": null,
      "outputs": []
    },
    {
      "cell_type": "code",
      "metadata": {
        "id": "5Ro-hV6BbySV"
      },
      "source": [
        "def titulos_with_values(drops):\n",
        "  titles_comb=[]\n",
        "  for i in range(len(df.headers)):\n",
        "    x = df.headers[i]\n",
        "    s = \"P(\" + str(x) + \"=\" + str(drops[i].value)\n",
        "    if (len(df.edges[x]) > 0):\n",
        "      s += '|' \n",
        "      edge_list = df.edges[x]\n",
        "      for j in range(len(edge_list)):\n",
        "        if(j != 0):\n",
        "          s+= \",\"\n",
        "        s += str(edge_list[j]) + \"=\" + str(drops[j].value)\n",
        "    s+=\")\"\n",
        "    titles_comb.append(s)\n",
        "  return titles_comb"
      ],
      "execution_count": null,
      "outputs": []
    },
    {
      "cell_type": "code",
      "metadata": {
        "id": "HqkefCs0zIrL"
      },
      "source": [
        "def hash_list(c1, c2):\n",
        "  return \"cols: \" + str(c1) + \" | vals: \" + str(c2) \n",
        "\n",
        "def map_fact(df):\n",
        "  map = dict()\n",
        "  for i in range(df.n_var):\n",
        "    cols = [i] + df.edges[i] \n",
        "    fact = get_factor(df,i)\n",
        "    for x in fact:\n",
        "      map[hash_list(cols, x[:-2])] = x[-1]\n",
        "\n",
        "  return map\n",
        "\n",
        "def get_val_fact(map, cols, vals):\n",
        "  return map[hash_list(cols, vals)]"
      ],
      "execution_count": null,
      "outputs": []
    },
    {
      "cell_type": "code",
      "metadata": {
        "id": "YicRBrOgzjlL"
      },
      "source": [
        "map = map_fact(df)"
      ],
      "execution_count": null,
      "outputs": []
    },
    {
      "cell_type": "code",
      "metadata": {
        "id": "XphcZZpwzK4j",
        "colab": {
          "base_uri": "https://localhost:8080/"
        },
        "outputId": "217ac855-9d22-437d-bd5b-313b77ed3ace"
      },
      "source": [
        "get_val_fact(map, [0], [1])"
      ],
      "execution_count": null,
      "outputs": [
        {
          "output_type": "execute_result",
          "data": {
            "text/plain": [
              "0.416667"
            ]
          },
          "metadata": {
            "tags": []
          },
          "execution_count": 173
        }
      ]
    },
    {
      "cell_type": "code",
      "metadata": {
        "id": "HwDpvDKAzNrx"
      },
      "source": [
        "def get_mult(df, map, cols, vals):\n",
        "  ans = []\n",
        "  D = dict(zip(cols, vals))\n",
        "\n",
        "  for x in cols:\n",
        "    cols_ = [x] + df.edges[x]\n",
        "    vals_ = [D[y] for y in cols_]\n",
        "\n",
        "    aux = get_val_fact(map, cols_, vals_)\n",
        "    ans.append(aux)\n",
        "  \n",
        "  return ans"
      ],
      "execution_count": null,
      "outputs": []
    },
    {
      "cell_type": "code",
      "metadata": {
        "id": "BbqrQcQdzP2J",
        "colab": {
          "base_uri": "https://localhost:8080/"
        },
        "outputId": "3d34a090-c22e-4221-f48e-3c7c2e104f74"
      },
      "source": [
        "get_mult(df, map, [0,1,2] , [0,1,0])"
      ],
      "execution_count": null,
      "outputs": [
        {
          "output_type": "execute_result",
          "data": {
            "text/plain": [
              "[0.583333, 0.624999781250164, 0.4444444444444445]"
            ]
          },
          "metadata": {
            "tags": []
          },
          "execution_count": 175
        }
      ]
    },
    {
      "cell_type": "code",
      "metadata": {
        "id": "2oAqMHqwXCRv"
      },
      "source": [
        "def mostrarr(r,etiqueta,factor3):\n",
        "  hijo=list()\n",
        "  labels=list()\n",
        "  values=list()\n",
        "  \n",
        "  for i in range(len(etiqueta)):\n",
        "    label = widgets.Button(description = (etiqueta[i]),layout=widgets.Layout(width=\"100%\"))\n",
        "    value = widgets.Button(description = str(factor3[i]),layout=widgets.Layout(width=\"100%\"))\n",
        "    labels.append(label)\n",
        "    values.append(value)\n",
        "\n",
        "  label = widgets.Button(description = str(\"Resultado\"),layout=widgets.Layout(width=\"100%\"))\n",
        "  value = widgets.Button(description = str(r),layout=widgets.Layout(width=\"100%\"))\n",
        "  labels.append(label)\n",
        "  values.append(value)\n",
        "  \n",
        "  label_box = widgets.VBox(labels)\n",
        "  val_box = widgets.VBox(values)\n",
        "  hijo.append(widgets.HBox([label_box,val_box]))\n",
        "  children.append(hijo[0])\n",
        "  box.children=children"
      ],
      "execution_count": null,
      "outputs": []
    },
    {
      "cell_type": "markdown",
      "metadata": {
        "id": "YdNLCpyt40Qx"
      },
      "source": [
        "# APLICACIÓN"
      ]
    },
    {
      "cell_type": "code",
      "metadata": {
        "colab": {
          "base_uri": "https://localhost:8080/",
          "height": 49,
          "referenced_widgets": [
            "daa33fea3b1446aaa799c6178549ce7d",
            "dec4377de77e445fa632351f009c0ce7",
            "29ff2bc23ec44b1ab6cd2961721a54ce"
          ]
        },
        "id": "rVbVd4KQ0B1e",
        "outputId": "ab5178eb-ac6c-4479-cf42-b4c9adb5818f"
      },
      "source": [
        "#@title Cargar archivo local\n",
        "uploader = widgets.FileUpload(accept='.txt',multiple=False,description=\"Subir .txt\")\n",
        "display(uploader)"
      ],
      "execution_count": null,
      "outputs": [
        {
          "output_type": "display_data",
          "data": {
            "application/vnd.jupyter.widget-view+json": {
              "model_id": "daa33fea3b1446aaa799c6178549ce7d",
              "version_minor": 0,
              "version_major": 2
            },
            "text/plain": [
              "FileUpload(value={}, accept='.txt', description='Subir .txt')"
            ]
          },
          "metadata": {
            "tags": []
          }
        }
      ]
    },
    {
      "cell_type": "code",
      "metadata": {
        "colab": {
          "base_uri": "https://localhost:8080/"
        },
        "id": "nBw_jz0115v5",
        "outputId": "187dd702-64d1-4bff-8118-fe22ad47a020"
      },
      "source": [
        "#@title Subiendo archivo\n",
        "if uploader.value == {}:\n",
        "  print(\"No hay ningun archivo subido.\")\n",
        "else:\n",
        "  uploaded_filename = next(iter(uploader.value))\n",
        "  content = uploader.value[uploaded_filename]['content']\n",
        "  with open('input.txt', 'wb') as f: f.write(content)\n",
        "\n",
        "from time import sleep\n",
        "sleep(5)\n",
        "print(\"Archivo subido\")"
      ],
      "execution_count": null,
      "outputs": [
        {
          "output_type": "stream",
          "text": [
            "No hay ningun archivo subido.\n",
            "Archivo subido\n"
          ],
          "name": "stdout"
        }
      ]
    },
    {
      "cell_type": "code",
      "metadata": {
        "cellView": "form",
        "colab": {
          "base_uri": "https://localhost:8080/",
          "height": 350
        },
        "id": "jkhG2l49FOoC",
        "outputId": "75ddbd71-1351-4286-f480-303b7ecb053e"
      },
      "source": [
        "#@title Leyendo dataframe\n",
        "df = Dataframe(\"input.txt\")\n",
        "print(df)\n",
        "\n",
        "factores = df.fact()\n",
        "titles_comb = titulos()"
      ],
      "execution_count": null,
      "outputs": [
        {
          "output_type": "error",
          "ename": "FileNotFoundError",
          "evalue": "ignored",
          "traceback": [
            "\u001b[0;31m---------------------------------------------------------------------------\u001b[0m",
            "\u001b[0;31mFileNotFoundError\u001b[0m                         Traceback (most recent call last)",
            "\u001b[0;32m<ipython-input-179-adf94fc322cd>\u001b[0m in \u001b[0;36m<module>\u001b[0;34m()\u001b[0m\n\u001b[1;32m      1\u001b[0m \u001b[0;31m#@title Leyendo dataframe\u001b[0m\u001b[0;34m\u001b[0m\u001b[0;34m\u001b[0m\u001b[0;34m\u001b[0m\u001b[0m\n\u001b[0;32m----> 2\u001b[0;31m \u001b[0mdf\u001b[0m \u001b[0;34m=\u001b[0m \u001b[0mDataframe\u001b[0m\u001b[0;34m(\u001b[0m\u001b[0;34m\"input.txt\"\u001b[0m\u001b[0;34m)\u001b[0m\u001b[0;34m\u001b[0m\u001b[0;34m\u001b[0m\u001b[0m\n\u001b[0m\u001b[1;32m      3\u001b[0m \u001b[0mprint\u001b[0m\u001b[0;34m(\u001b[0m\u001b[0mdf\u001b[0m\u001b[0;34m)\u001b[0m\u001b[0;34m\u001b[0m\u001b[0;34m\u001b[0m\u001b[0m\n\u001b[1;32m      4\u001b[0m \u001b[0;34m\u001b[0m\u001b[0m\n\u001b[1;32m      5\u001b[0m \u001b[0mfactores\u001b[0m \u001b[0;34m=\u001b[0m \u001b[0mdf\u001b[0m\u001b[0;34m.\u001b[0m\u001b[0mfact\u001b[0m\u001b[0;34m(\u001b[0m\u001b[0;34m)\u001b[0m\u001b[0;34m\u001b[0m\u001b[0;34m\u001b[0m\u001b[0m\n",
            "\u001b[0;32m<ipython-input-165-436e4f2a66f1>\u001b[0m in \u001b[0;36m__init__\u001b[0;34m(self, path)\u001b[0m\n\u001b[1;32m      7\u001b[0m         \u001b[0;31m#LECTURA DE DATOS\u001b[0m\u001b[0;34m\u001b[0m\u001b[0;34m\u001b[0m\u001b[0;34m\u001b[0m\u001b[0m\n\u001b[1;32m      8\u001b[0m         \u001b[0;31m#RECOLECCION DE FILAS\u001b[0m\u001b[0;34m\u001b[0m\u001b[0;34m\u001b[0m\u001b[0;34m\u001b[0m\u001b[0m\n\u001b[0;32m----> 9\u001b[0;31m         \u001b[0mfinput\u001b[0m \u001b[0;34m=\u001b[0m \u001b[0mopen\u001b[0m\u001b[0;34m(\u001b[0m\u001b[0mpath\u001b[0m\u001b[0;34m,\u001b[0m\u001b[0;34m\"r\"\u001b[0m\u001b[0;34m)\u001b[0m\u001b[0;34m\u001b[0m\u001b[0;34m\u001b[0m\u001b[0m\n\u001b[0m\u001b[1;32m     10\u001b[0m         \u001b[0mself\u001b[0m\u001b[0;34m.\u001b[0m\u001b[0mn_var\u001b[0m \u001b[0;34m=\u001b[0m \u001b[0mint\u001b[0m\u001b[0;34m(\u001b[0m\u001b[0mfinput\u001b[0m\u001b[0;34m.\u001b[0m\u001b[0mreadline\u001b[0m\u001b[0;34m(\u001b[0m\u001b[0;34m)\u001b[0m\u001b[0;34m.\u001b[0m\u001b[0mrstrip\u001b[0m\u001b[0;34m(\u001b[0m\u001b[0;34m)\u001b[0m\u001b[0;34m)\u001b[0m \u001b[0;31m# Numero de variables\u001b[0m\u001b[0;34m\u001b[0m\u001b[0;34m\u001b[0m\u001b[0m\n\u001b[1;32m     11\u001b[0m         \u001b[0mself\u001b[0m\u001b[0;34m.\u001b[0m\u001b[0mcard\u001b[0m\u001b[0;34m=\u001b[0m\u001b[0;34m[\u001b[0m\u001b[0;34m]\u001b[0m\u001b[0;34m\u001b[0m\u001b[0;34m\u001b[0m\u001b[0m\n",
            "\u001b[0;31mFileNotFoundError\u001b[0m: [Errno 2] No such file or directory: 'input.txt'"
          ]
        }
      ]
    },
    {
      "cell_type": "code",
      "metadata": {
        "id": "82H6kDlPe--j",
        "cellView": "form"
      },
      "source": [
        "#@title Tabla de Factores\n",
        "import re\n",
        "\n",
        "children = list()\n",
        "\n",
        "for i in range(len(titles_comb)):\n",
        "  \n",
        "  boxes = []\n",
        "  col = 0\n",
        "  for j in range(len(factores[i])):\n",
        "    labels = list()\n",
        "    for k in range(len(factores[i][j])):\n",
        "      label = widgets.Button(description = str(factores[i][j][k]),layout=widgets.Layout(width=\"10%\"))\n",
        "      labels.append(label) \n",
        "    label_box = widgets.HBox(labels)\n",
        "    boxes.append(label_box)\n",
        "\n",
        "  titles_ = re.findall('[0-9]+',titles_comb[i])\n",
        "  \n",
        "  title_labels = []\n",
        "  for title_label in titles_:\n",
        "    label = widgets.Button(description = title_label,layout=widgets.Layout(width=\"10%\"))\n",
        "    title_labels.append(label)\n",
        "  title_labels.append(widgets.Button(description = \"Prob\",layout=widgets.Layout(width=\"10%\")))\n",
        "  title_labels.append(widgets.Button(description = \"Prob Normalizada\",layout=widgets.Layout(width=\"10%\")))\n",
        "  title_box = widgets.HBox(title_labels)\n",
        "  children.append(widgets.VBox([title_box,*boxes]))\n",
        "\n",
        "tab = widgets.Tab()\n",
        "tab.children = children\n",
        "for i in range(len(titles_comb)):\n",
        "  tab.set_title(i,titles_comb[i])\n",
        "tab"
      ],
      "execution_count": null,
      "outputs": []
    },
    {
      "cell_type": "code",
      "metadata": {
        "id": "SrB3UR7s70MV"
      },
      "source": [
        "#@title Formulario para el cálculo de probabilidad\n",
        "map = map_fact(df)\n",
        "children = list()\n",
        "box=widgets.VBox()\n",
        "drops=list()\n",
        "global borrar\n",
        "borrar =False\n",
        "for i in df.headers:\n",
        "  \n",
        "  drop = widgets.Dropdown(options=df.unique_val[i],\n",
        "    value=df.unique_val[i][0],\n",
        "    description=\"Variable {}:\".format(i),\n",
        "    )\n",
        "  # drop.observe(on_change)\n",
        "  drops.append(drop)\n",
        "children.append(widgets.VBox(drops))\n",
        "calcular=widgets.Button(\n",
        "    description='Calcular',\n",
        "    disabled=False,\n",
        "    button_style='info', # 'success', 'info', 'warning', 'danger' or ''\n",
        "    tooltip='',\n",
        "    icon='check'\n",
        "    )\n",
        "\n",
        "def Click(b):\n",
        "    etiqueta=[]\n",
        "    factor3=[]\n",
        "    resultado=0\n",
        "    global borrar\n",
        "    b=True\n",
        "    if borrar:\n",
        "      children.pop()\n",
        "      #children[-1].close()\n",
        "    query = []\n",
        "    for i,_ in enumerate(drops):\n",
        "      query.append(_.value)\n",
        "\n",
        "    result = 1\n",
        "    titles_comb_with_values = titulos_with_values(drops)\n",
        "    for i, val in enumerate(get_mult(df,map,df.headers,query)):\n",
        "\n",
        "      etiqueta.append(titles_comb_with_values[i])\n",
        "      factor3.append(val)\n",
        "      result *= val\n",
        "    \n",
        "    borrar=b\n",
        "    resultado=result\n",
        "    mostrarr(resultado,etiqueta,factor3)\n",
        "\n",
        "children.append(calcular)\n",
        "calcular.on_click(Click)\n",
        "\n",
        "box.children=children\n",
        "box"
      ],
      "execution_count": null,
      "outputs": []
    },
    {
      "cell_type": "code",
      "metadata": {
        "id": "MjPGZ_BFqbPg",
        "colab": {
          "base_uri": "https://localhost:8080/",
          "height": 177,
          "referenced_widgets": [
            "cc811f74cf1643ceacde0ac9a08fc0ee",
            "eb414ec04e4b48d598883949b40a0985",
            "945c77f8424d4b49af26b963deb7945f",
            "77e9c95f55924107bcbea5e7888ecaa4",
            "4115bf6cda79438d8e6b9b4b794523de",
            "155aa08f18d348d8a035b19e41a6a060",
            "7ed0b784baf24ac38ddc57f4114d17db",
            "bc33af2c9313467199d7690c32302318",
            "4a51b595953941868a0ca3693cea738b",
            "839a5e3ee14a4ad396099f7eff747fdc",
            "75c65e59ced34ac0ae8cc990d78f6b96",
            "e76376dcd7ff4f2d9d318c04150568ed",
            "fa04efc562794b1482a05d115b17a854",
            "5eaa534d4574494e9738358c5b47a6d6",
            "0a65902fe4f74dee9b38c9176258e886",
            "6cf5ea19297947edb49b03e01d5e851c",
            "4d51932b51844d3594d4015f26bb7fe0",
            "af6fa85ca4544cd5b072da459e870349",
            "d8efcc187ca54538ac52579118646369",
            "7c1bb3388d4b4d5982a376156f5ffed5",
            "3749da0b7bb84a7e80f669e5465bb385",
            "860014061b1647c9a968423aa452cd42",
            "3797f7307cae43c1bb84f7eef901730c",
            "65e98f9c8e9f48868c6c71cbe72c3b91",
            "9be9e3ce19c042269aeec3d19dd73486",
            "a867896ad2f54f668c3f6bea0e504353",
            "229888bf7aa44289b212977b0611fd65",
            "974c65cf6b9b490993019c2f916f70ba",
            "dcb251ae002d4f4791045d41577c23b7",
            "994aa0eb30d947208b108e6fa41e4cf6",
            "a5e2c4c2bdd44d3697da09a493e1acc2",
            "e902511b5aa14a3a8a56b041ca5804be",
            "ef4ff5096f8c47faa992e04dcbe63447",
            "05a7be4b37df46d09d28efe1b7d549d6",
            "6270a701b5494caf8acdcf4da0ee383c",
            "193c57c4a7184ce08b8050fc6cc122cc",
            "0c43ea77a27140099a2c27dd73765861",
            "29d694bc306e4d5c9240e722aa0b2b3d",
            "3e9245811b524bd8963859bd27511cad",
            "cdb754e28910459091143f8de60091f6",
            "a353364f59764edbbe71d65b1cdd1a74",
            "595f1c9df4374cffbdbf548be921c371"
          ]
        },
        "outputId": "d5dc67e4-b372-4f43-d61d-97e3d403106c"
      },
      "source": [
        "import ipywidgets as widgets\n",
        "from IPython.display import display\n",
        "\n",
        "upl_dag = widgets.FileUpload(accept='.txt',multiple=False,description=\"Select dag.txt\")\n",
        "upl_data = widgets.FileUpload(accept='.csv',multiple=False,description=\"Select data.csv\")\n",
        "\n",
        "\n",
        "def upl_dag_file(a):\n",
        "  global upl_dag\n",
        "  if upl_dag.value == {}:\n",
        "    print(\"No hay ningun archivo subido.\")\n",
        "  else:\n",
        "    uploaded_filename = next(iter(upl_dag.value))\n",
        "    content = upl_dag.value[uploaded_filename]['content']\n",
        "    with open('dag.txt', 'wb') as f: f.write(content)\n",
        "    print(\"Archivo subido\")\n",
        "    upl_dag.value.clear()\n",
        "    upl_dag._counter = 0\n",
        "\n",
        "def upl_data_file(a):\n",
        "  global upl_data\n",
        "  if upl_data.value == {}:\n",
        "    print(\"No hay ningun archivo subido.\")\n",
        "  else:\n",
        "    uploaded_filename = next(iter(upl_data.value))\n",
        "    content = upl_data.value[uploaded_filename]['content']\n",
        "    with open('data.csv', 'wb') as f: f.write(content)\n",
        "    print(\"Archivo subido\")\n",
        "    upl_data.value.clear()\n",
        "    upl_data._counter = 0\n",
        "\n",
        "btn_upl_dag = widgets.Button(\n",
        "    description='Upload DAG',\n",
        "    disabled=False,\n",
        "    button_style='info', # 'success', 'info', 'warning', 'danger' or ''\n",
        "    tooltip='',\n",
        "    icon='check'\n",
        "    )\n",
        "\n",
        "btn_upl_data = widgets.Button(\n",
        "    description='Upload DATASET',\n",
        "    disabled=False,\n",
        "    button_style='info', # 'success', 'info', 'warning', 'danger' or ''\n",
        "    tooltip='',\n",
        "    icon='check'\n",
        "    )\n",
        "\n",
        "btn_upl_dag.on_click(upl_dag_file)\n",
        "btn_upl_data.on_click(upl_data_file)\n",
        "\n",
        "upl_dag_box = widgets.HBox([upl_dag,btn_upl_dag])\n",
        "upl_data_box = widgets.HBox([upl_data,btn_upl_data])\n",
        "upl_box =  widgets.VBox([upl_data_box,upl_dag_box])\n",
        "display(upl_box)\n",
        "\n",
        "hiperparam = widgets.FloatSlider(description=\"α\")\n",
        "display(hiperparam)\n",
        "\n",
        "left_aris = widgets.Text(\n",
        "    value='forecast',\n",
        "    placeholder='Type something',\n",
        "    description='BEGIN:',\n",
        "    disabled=False\n",
        ")\n",
        "\n",
        "right_aris = widgets.Text(\n",
        "    value='forecast',\n",
        "    placeholder='Type something',\n",
        "    description='END:',\n",
        "    disabled=False\n",
        ")\n",
        "\n",
        "ctrl_ins = widgets.Button(\n",
        "    description='ADD',\n",
        "    disabled=False,\n",
        "    button_style='info', # 'success', 'info', 'warning', 'danger' or ''\n",
        "    tooltip='',\n",
        "    icon='check'\n",
        "    )\n",
        "\n",
        "ctrl_del = widgets.Button(\n",
        "    description='DELETE',\n",
        "    disabled=False,\n",
        "    button_style='info', # 'success', 'info', 'warning', 'danger' or ''\n",
        "    tooltip='',\n",
        "    icon='check'\n",
        "    )\n",
        "\n",
        "ctrl_show = widgets.Button(\n",
        "    description='SHOW',\n",
        "    disabled=False,\n",
        "    button_style='info', # 'success', 'info', 'warning', 'danger' or ''\n",
        "    tooltip='',\n",
        "    icon='check'\n",
        "    )\n",
        "\n",
        "aris_param_box = widgets.HBox([left_aris,right_aris])\n",
        "aris_ctrl_box = widgets.HBox([ctrl_ins,ctrl_del,ctrl_show])\n",
        "aris_box = widgets.VBox([aris_param_box,aris_ctrl_box])\n",
        "display(aris_box)\n"
      ],
      "execution_count": null,
      "outputs": [
        {
          "output_type": "display_data",
          "data": {
            "application/vnd.jupyter.widget-view+json": {
              "model_id": "cc811f74cf1643ceacde0ac9a08fc0ee",
              "version_minor": 0,
              "version_major": 2
            },
            "text/plain": [
              "VBox(children=(HBox(children=(FileUpload(value={}, accept='.csv', description='Select data.csv'), Button(butto…"
            ]
          },
          "metadata": {
            "tags": []
          }
        },
        {
          "output_type": "display_data",
          "data": {
            "application/vnd.jupyter.widget-view+json": {
              "model_id": "d8efcc187ca54538ac52579118646369",
              "version_minor": 0,
              "version_major": 2
            },
            "text/plain": [
              "FloatSlider(value=0.0, description='α')"
            ]
          },
          "metadata": {
            "tags": []
          }
        },
        {
          "output_type": "display_data",
          "data": {
            "application/vnd.jupyter.widget-view+json": {
              "model_id": "860014061b1647c9a968423aa452cd42",
              "version_minor": 0,
              "version_major": 2
            },
            "text/plain": [
              "VBox(children=(HBox(children=(Text(value='forecast', description='BEGIN:', placeholder='Type something'), Text…"
            ]
          },
          "metadata": {
            "tags": []
          }
        }
      ]
    },
    {
      "cell_type": "code",
      "metadata": {
        "id": "MdTd0rPHqj82"
      },
      "source": [
        "def readDAG(path):\n",
        "    finput = open(path,\"r\")\n",
        "    lines = finput.readlines()\n",
        "    finput.close()\n",
        "    dag_len = len(lines)\n",
        "    # Check dag_len\n",
        "    edges = [[] for _ in range(dag_len)]\n",
        "    for i in range(dag_len):\n",
        "        line = lines[i].rstrip().split(',')\n",
        "        for j in range(len(line)):\n",
        "            if int(line[j]) == 1:\n",
        "                edges[j].append(i)\n",
        "    return edges"
      ],
      "execution_count": null,
      "outputs": []
    },
    {
      "cell_type": "code",
      "metadata": {
        "id": "0C2hPzt3A8-2"
      },
      "source": [
        "# def readDAGMatrix(path):\n",
        "#     finput = open(path,\"r\")\n",
        "#     lines = finput.readlines()\n",
        "#     dag_len = len(lines)\n",
        "#     # Check dag_len\n",
        "#     edges = [[0 for x in range(dag_len)] for _ in range(dag_len)]\n",
        "#     for i in range(dag_len):\n",
        "#         line = lines[i].rstrip().split(',')\n",
        "#         for j in range(len(line)):\n",
        "#             if int(line[j]) == 1:\n",
        "#                 edges[j][i] = 1\n",
        "#     return edges"
      ],
      "execution_count": null,
      "outputs": []
    },
    {
      "cell_type": "code",
      "metadata": {
        "id": "90WEurNw9ArU",
        "colab": {
          "base_uri": "https://localhost:8080/",
          "height": 299
        },
        "outputId": "d0f29e7e-3f9e-4838-bfe1-6a228c8418f3"
      },
      "source": [
        "edges = readDAG(\"dag.txt\")\n",
        "edges"
      ],
      "execution_count": null,
      "outputs": [
        {
          "output_type": "error",
          "ename": "FileNotFoundError",
          "evalue": "ignored",
          "traceback": [
            "\u001b[0;31m---------------------------------------------------------------------------\u001b[0m",
            "\u001b[0;31mFileNotFoundError\u001b[0m                         Traceback (most recent call last)",
            "\u001b[0;32m<ipython-input-16-fd7deceeea68>\u001b[0m in \u001b[0;36m<module>\u001b[0;34m()\u001b[0m\n\u001b[0;32m----> 1\u001b[0;31m \u001b[0medges\u001b[0m \u001b[0;34m=\u001b[0m \u001b[0mreadDAG\u001b[0m\u001b[0;34m(\u001b[0m\u001b[0;34m\"dag.txt\"\u001b[0m\u001b[0;34m)\u001b[0m\u001b[0;34m\u001b[0m\u001b[0;34m\u001b[0m\u001b[0m\n\u001b[0m\u001b[1;32m      2\u001b[0m \u001b[0medges\u001b[0m\u001b[0;34m\u001b[0m\u001b[0;34m\u001b[0m\u001b[0m\n",
            "\u001b[0;32m<ipython-input-14-af6b360bb103>\u001b[0m in \u001b[0;36mreadDAG\u001b[0;34m(path)\u001b[0m\n\u001b[1;32m      1\u001b[0m \u001b[0;32mdef\u001b[0m \u001b[0mreadDAG\u001b[0m\u001b[0;34m(\u001b[0m\u001b[0mpath\u001b[0m\u001b[0;34m)\u001b[0m\u001b[0;34m:\u001b[0m\u001b[0;34m\u001b[0m\u001b[0;34m\u001b[0m\u001b[0m\n\u001b[0;32m----> 2\u001b[0;31m     \u001b[0mfinput\u001b[0m \u001b[0;34m=\u001b[0m \u001b[0mopen\u001b[0m\u001b[0;34m(\u001b[0m\u001b[0mpath\u001b[0m\u001b[0;34m,\u001b[0m\u001b[0;34m\"r\"\u001b[0m\u001b[0;34m)\u001b[0m\u001b[0;34m\u001b[0m\u001b[0;34m\u001b[0m\u001b[0m\n\u001b[0m\u001b[1;32m      3\u001b[0m     \u001b[0mlines\u001b[0m \u001b[0;34m=\u001b[0m \u001b[0mfinput\u001b[0m\u001b[0;34m.\u001b[0m\u001b[0mreadlines\u001b[0m\u001b[0;34m(\u001b[0m\u001b[0;34m)\u001b[0m\u001b[0;34m\u001b[0m\u001b[0;34m\u001b[0m\u001b[0m\n\u001b[1;32m      4\u001b[0m     \u001b[0mfinput\u001b[0m\u001b[0;34m.\u001b[0m\u001b[0mclose\u001b[0m\u001b[0;34m(\u001b[0m\u001b[0;34m)\u001b[0m\u001b[0;34m\u001b[0m\u001b[0;34m\u001b[0m\u001b[0m\n\u001b[1;32m      5\u001b[0m     \u001b[0mdag_len\u001b[0m \u001b[0;34m=\u001b[0m \u001b[0mlen\u001b[0m\u001b[0;34m(\u001b[0m\u001b[0mlines\u001b[0m\u001b[0;34m)\u001b[0m\u001b[0;34m\u001b[0m\u001b[0;34m\u001b[0m\u001b[0m\n",
            "\u001b[0;31mFileNotFoundError\u001b[0m: [Errno 2] No such file or directory: 'dag.txt'"
          ]
        }
      ]
    },
    {
      "cell_type": "code",
      "metadata": {
        "id": "WKTKMCzY_j0h"
      },
      "source": [
        "def deleteEdge(edges, left, right): # left -> right // 2->0\n",
        "    index = edges[right].index(left)\n",
        "    edges[right].pop(index)\n",
        "    print(edges)"
      ],
      "execution_count": null,
      "outputs": []
    },
    {
      "cell_type": "code",
      "metadata": {
        "id": "Nt8b8W_wCs8S"
      },
      "source": [
        "deleteEdge(edges, 2, 0)"
      ],
      "execution_count": null,
      "outputs": []
    },
    {
      "cell_type": "code",
      "metadata": {
        "id": "vym1yjB3Dj8g"
      },
      "source": [
        "def addEdge(edges, left, right): # left -> right // 2->0\n",
        "    edges[right].append(left)\n",
        "    print(edges)"
      ],
      "execution_count": null,
      "outputs": []
    },
    {
      "cell_type": "code",
      "metadata": {
        "id": "liYtpYMbDpYI"
      },
      "source": [
        "addEdge(edges, 2, 0)"
      ],
      "execution_count": null,
      "outputs": []
    },
    {
      "cell_type": "code",
      "metadata": {
        "id": "hwjE2NEwPLO8"
      },
      "source": [
        "pip install graphviz"
      ],
      "execution_count": null,
      "outputs": []
    },
    {
      "cell_type": "code",
      "metadata": {
        "id": "nLSDPYI_PM13"
      },
      "source": [
        "from graphviz import Digraph"
      ],
      "execution_count": null,
      "outputs": []
    },
    {
      "cell_type": "code",
      "metadata": {
        "id": "5KQ5vksYPJuD"
      },
      "source": [
        "def showGraph(edges):\n",
        "    dot = Digraph()\n",
        "    for _ in range(len(edges)):\n",
        "        dot.node(str(_))\n",
        "    for i in range(len(edges)):\n",
        "        edge = edges[i]\n",
        "        for j in range(len(edge)):\n",
        "            dot.edge(str(edge[j]), str(i))\n",
        "    dot.render(\"graph.gv\")"
      ],
      "execution_count": null,
      "outputs": []
    },
    {
      "cell_type": "code",
      "metadata": {
        "id": "HSA8BQHkP7N7",
        "colab": {
          "base_uri": "https://localhost:8080/",
          "height": 214
        },
        "outputId": "20519dcd-4139-43ce-da0c-613a96d14c08"
      },
      "source": [
        "showGraph(edges)\n",
        "with open(\"graph.gv\") as f:\n",
        "    dot_graph = f.read()\n",
        "Source(dot_graph).pipe"
      ],
      "execution_count": null,
      "outputs": [
        {
          "output_type": "error",
          "ename": "NameError",
          "evalue": "ignored",
          "traceback": [
            "\u001b[0;31m---------------------------------------------------------------------------\u001b[0m",
            "\u001b[0;31mNameError\u001b[0m                                 Traceback (most recent call last)",
            "\u001b[0;32m<ipython-input-19-0ed62d92c970>\u001b[0m in \u001b[0;36m<module>\u001b[0;34m()\u001b[0m\n\u001b[0;32m----> 1\u001b[0;31m \u001b[0mshowGraph\u001b[0m\u001b[0;34m(\u001b[0m\u001b[0medges\u001b[0m\u001b[0;34m)\u001b[0m\u001b[0;34m\u001b[0m\u001b[0;34m\u001b[0m\u001b[0m\n\u001b[0m\u001b[1;32m      2\u001b[0m \u001b[0;32mwith\u001b[0m \u001b[0mopen\u001b[0m\u001b[0;34m(\u001b[0m\u001b[0;34m\"graph.gv\"\u001b[0m\u001b[0;34m)\u001b[0m \u001b[0;32mas\u001b[0m \u001b[0mf\u001b[0m\u001b[0;34m:\u001b[0m\u001b[0;34m\u001b[0m\u001b[0;34m\u001b[0m\u001b[0m\n\u001b[1;32m      3\u001b[0m     \u001b[0mdot_graph\u001b[0m \u001b[0;34m=\u001b[0m \u001b[0mf\u001b[0m\u001b[0;34m.\u001b[0m\u001b[0mread\u001b[0m\u001b[0;34m(\u001b[0m\u001b[0;34m)\u001b[0m\u001b[0;34m\u001b[0m\u001b[0;34m\u001b[0m\u001b[0m\n\u001b[1;32m      4\u001b[0m \u001b[0mSource\u001b[0m\u001b[0;34m(\u001b[0m\u001b[0mdot_graph\u001b[0m\u001b[0;34m)\u001b[0m\u001b[0;34m.\u001b[0m\u001b[0mpipe\u001b[0m\u001b[0;34m\u001b[0m\u001b[0;34m\u001b[0m\u001b[0m\n",
            "\u001b[0;31mNameError\u001b[0m: name 'edges' is not defined"
          ]
        }
      ]
    },
    {
      "cell_type": "code",
      "metadata": {
        "id": "YD0dd-KETkaN"
      },
      "source": [
        "def readData(self, path):\n",
        "    finput = open(path,\"r\")\n",
        "    lines = finput.readlines()\n",
        "    finput.close()\n",
        "    self.M = len(lines)-1\n",
        "    self.headers = lines[0].rstrip().split(',')\n",
        "    self.n_var = len(self.headers)\n",
        "    self.data = [[] for _ in range(self.M)]\n",
        "    for i in range(self.M):\n",
        "        data[i] = lines[i+1].rstrip().split(',')\n",
        "    self.cols = []\n",
        "    self.unique_val = dict()\n",
        "    for i, head in enumerate(headers):\n",
        "        unique_val[head] = list()\n",
        "        for row in data:\n",
        "            if row[i] not in unique_val[head]:\n",
        "                unique_val[head].append(row[i])"
      ],
      "execution_count": null,
      "outputs": []
    },
    {
      "cell_type": "code",
      "metadata": {
        "id": "cuxdNe8GVhlp"
      },
      "source": [
        "readData(\"data.csv\")"
      ],
      "execution_count": null,
      "outputs": []
    },
    {
      "cell_type": "code",
      "metadata": {
        "id": "P7CaqN2oci4k"
      },
      "source": [
        "hiper_param = 1"
      ],
      "execution_count": null,
      "outputs": []
    },
    {
      "cell_type": "code",
      "metadata": {
        "id": "41abA9YrcMhn"
      },
      "source": [
        "hiper_param_slider = widgets.IntSlider(\n",
        "    value=0,\n",
        "    min=0,\n",
        "    max=10,\n",
        "    step=1,\n",
        "    description='Test:',\n",
        "    disabled=False,\n",
        "    continuous_update=False,\n",
        "    orientation='horizontal',\n",
        "    readout=True,\n",
        "    readout_format='d'\n",
        ")\n",
        "hiper_param_slider"
      ],
      "execution_count": null,
      "outputs": []
    },
    {
      "cell_type": "code",
      "metadata": {
        "id": "k7fRrnZFckuO"
      },
      "source": [
        "hiper_param = hiper_param_slider.value\n",
        "hiper_param"
      ],
      "execution_count": null,
      "outputs": []
    }
  ]
}