{
  "nbformat": 4,
  "nbformat_minor": 0,
  "metadata": {
    "colab": {
      "name": "EA.ipynb",
      "provenance": [],
      "collapsed_sections": []
    },
    "kernelspec": {
      "display_name": "Python 3",
      "name": "python3"
    },
    "language_info": {
      "name": "python"
    },
    "widgets": {
      "application/vnd.jupyter.widget-state+json": {
        "ef8048006f53491a8e548666ff8e2b69": {
          "model_module": "@jupyter-widgets/controls",
          "model_name": "FileUploadModel",
          "model_module_version": "1.5.0",
          "state": {
            "_counter": 0,
            "_dom_classes": [],
            "_model_module": "@jupyter-widgets/controls",
            "_model_module_version": "1.5.0",
            "_model_name": "FileUploadModel",
            "_view_count": null,
            "_view_module": "@jupyter-widgets/controls",
            "_view_module_version": "1.5.0",
            "_view_name": "FileUploadView",
            "accept": ".txt",
            "button_style": "",
            "data": [],
            "description": "Subir .txt",
            "description_tooltip": null,
            "disabled": false,
            "error": "",
            "icon": "upload",
            "layout": "IPY_MODEL_e6290f086c394db69418c9872263c914",
            "metadata": [],
            "multiple": false,
            "style": "IPY_MODEL_320b9ceaede9436b9df3dc1761df2513"
          }
        },
        "e6290f086c394db69418c9872263c914": {
          "model_module": "@jupyter-widgets/base",
          "model_name": "LayoutModel",
          "model_module_version": "1.2.0",
          "state": {
            "_model_module": "@jupyter-widgets/base",
            "_model_module_version": "1.2.0",
            "_model_name": "LayoutModel",
            "_view_count": null,
            "_view_module": "@jupyter-widgets/base",
            "_view_module_version": "1.2.0",
            "_view_name": "LayoutView",
            "align_content": null,
            "align_items": null,
            "align_self": null,
            "border": null,
            "bottom": null,
            "display": null,
            "flex": null,
            "flex_flow": null,
            "grid_area": null,
            "grid_auto_columns": null,
            "grid_auto_flow": null,
            "grid_auto_rows": null,
            "grid_column": null,
            "grid_gap": null,
            "grid_row": null,
            "grid_template_areas": null,
            "grid_template_columns": null,
            "grid_template_rows": null,
            "height": null,
            "justify_content": null,
            "justify_items": null,
            "left": null,
            "margin": null,
            "max_height": null,
            "max_width": null,
            "min_height": null,
            "min_width": null,
            "object_fit": null,
            "object_position": null,
            "order": null,
            "overflow": null,
            "overflow_x": null,
            "overflow_y": null,
            "padding": null,
            "right": null,
            "top": null,
            "visibility": null,
            "width": null
          }
        },
        "320b9ceaede9436b9df3dc1761df2513": {
          "model_module": "@jupyter-widgets/controls",
          "model_name": "ButtonStyleModel",
          "model_module_version": "1.5.0",
          "state": {
            "_model_module": "@jupyter-widgets/controls",
            "_model_module_version": "1.5.0",
            "_model_name": "ButtonStyleModel",
            "_view_count": null,
            "_view_module": "@jupyter-widgets/base",
            "_view_module_version": "1.2.0",
            "_view_name": "StyleView",
            "button_color": null,
            "font_weight": ""
          }
        }
      }
    }
  },
  "cells": [
    {
      "cell_type": "code",
      "metadata": {
        "colab": {
          "base_uri": "https://localhost:8080/"
        },
        "id": "sKopDHRgGtfs",
        "outputId": "81b0fcfb-4edd-4a56-a6d9-40e276105b02"
      },
      "source": [
        "#@title Texto de título predeterminado\n",
        "%%writefile data.txt\n",
        "3\n",
        "2,2,3\n",
        "2\n",
        "0->1\n", 
        "1->2\n",
        "1.0\n",
        "10\n",
        "0,0,0\n",
        "0,0,1\n",
        "0,1,0\n",
        "1,0,0\n",
        "0,1,2\n",
        "0,1,2\n",
        "1,1,0\n",
        "0,1,0\n",
        "1,0,1\n",
        "1,1,1"
      ],
      "execution_count": null,
      "outputs": [
        {
          "name": "stdout",
          "output_type": "stream",
          "text": [
            "Writing data.txt\n"
          ]
        }
      ]
    },
    {
      "cell_type": "code",
      "metadata": {
        "id": "FYUit8JkTm2z"
      },
      "source": [
        "import ipywidgets as widgets\n",
        "#https://colab.research.google.com/drive/1HnkyKNSvUqcsJkh5yGYCcZxBaCgxsQLl?usp=sharing"
      ],
      "execution_count": null,
      "outputs": []
    },
    {
      "cell_type": "code",
      "metadata": {
        "id": "bpORs0AuFKJR"
      },
      "source": [
        "class Dataframe:\n",
        "    \"\"\"\n",
        "    CREA UN OBJETO DATAFRAME QUE IMPLEMENTA MÉTODOS DE FUNCIÓN DE CONTEO\n",
        "    CARDINALIDAD, PROBABILIDAD MARGINAL, Y PROBABILIDAD CONJUNTA\n",
        "    \"\"\"\n",
        "    def __init__(self,path):\n",
        "        #LECTURA DE DATOS\n",
        "        #RECOLECCION DE FILAS\n",
        "        finput = open(path,\"r\")\n",
        "        self.n_var = int(finput.readline().rstrip()) # Numero de variables\n",
        "        self.card=[]\n",
        "        self.headers=[]\n",
        "        self.c = finput.readline().rstrip().split(',') # Cardinalidad\n",
        "        for i in range(self.n_var):\n",
        "          self.card.append(int(self.c[i]))\n",
        "          self.headers.append(i)\n",
        "        self.n_edges = int(finput.readline().rstrip()) # Numero de aristas\n",
        "        self.edges = [[] for _ in range(self.n_var)]   # Aristas\n",
        "        for _ in range(self.n_edges):\n",
        "            left, right = finput.readline().rstrip().split('->')\n",
        "            self.edges[int(right)].append(int(left)) # Leer aristas\n",
        "        self.hiper_param = float(finput.readline().rstrip()) # Hiperparametro de dirichlet\n",
        "        self.M = int(finput.readline().rstrip()) # Numero de instancias\n",
        "        self.data = [[] for _ in range(self.M)] # Data\n",
        "        for i in range(self.M):\n",
        "          data_split = finput.readline().rstrip().split(',')\n",
        "          for val in data_split:\n",
        "              self.data[i].append(int(val))\n",
        "        finput.close()\n",
        "        self.cols = []\n",
        "        # OBTENER VALORES DISTINTOS DE CADA COLUMNA\n",
        "        self.unique_val = dict()\n",
        "        for i, head in enumerate(self.headers):\n",
        "            self.unique_val[head] = list()\n",
        "            for row in self.data:\n",
        "                if row[i] not in self.unique_val[head]:\n",
        "                    self.unique_val[head].append(row[i])\n",
        "    \n",
        "    #IMPRIMIR DATASET\n",
        "    def __str__(self):\n",
        "        result = \"\"\"\"\"\"\n",
        "        for head in self.headers:\n",
        "            result += '|{:>11}| '.format(head)\n",
        "        result+=\"\\n---------------------------------------------------------------------\\n\"\n",
        "        for row in self.data:\n",
        "            for val in row:\n",
        "                result+='|{:>11}| '.format(val)\n",
        "            result+=\"\\n\"\n",
        "        return result\n",
        "\n",
        "    #FUNCIÓN CONTEO\n",
        "    def rep(self, params):\n",
        "        cnt = 0\n",
        "        for row in self.data:\n",
        "            ok = True\n",
        "            for x in params:\n",
        "              if(row[x[0]] != x[1]):\n",
        "                ok = False\n",
        "            if(ok):\n",
        "              cnt+= 1\n",
        "        return cnt\n",
        "\n",
        "    def prob_general(self, params, factor):\n",
        "        # (m[value] + p) / (M + (p * card(column))\n",
        "        exp1 = self.rep(params) + self.hiper_param\n",
        "        exp2 = self.M + (self.hiper_param * factor)\n",
        "        return round(exp1/exp2,6)    \n",
        "\n",
        "    def get_dag(self):\n",
        "      size = 0\n",
        "      self.dag = []\n",
        "      indexx = 0\n",
        "      while len(self.dag) < len(self.edges):\n",
        "          for i, val in enumerate(self.edges):\n",
        "            if not val and not self.dag:\n",
        "              self.dag.append(i)\n",
        "              break\n",
        "            else:\n",
        "              if val:\n",
        "                if self.dag[indexx] == val[0]:\n",
        "                  self.dag.append(i)\n",
        "                  indexx += 1\n",
        "                  break\n",
        "\n",
        "    def get_query(self):\n",
        "      self.get_dag()\n",
        "      query = []\n",
        "      for col in self.dag:\n",
        "        query.append([col,0])\n",
        "      return query\n",
        "\n",
        "    def fact(self):\n",
        "      factores=[]\n",
        "      for i in range(self.n_var):\n",
        "        factores.append(get_factor(self,i))\n",
        "      return factores"
      ],
      "execution_count": null,
      "outputs": []
    },
    {
      "cell_type": "code",
      "metadata": {
        "colab": {
          "base_uri": "https://localhost:8080/"
        },
        "id": "-DLI9Ez9OEHE",
        "outputId": "e3951c4f-080b-4095-c289-5f9ba764bb41"
      },
      "source": [
        "df = Dataframe(\"data.txt\")\n",
        "print(df)"
      ],
      "execution_count": null,
      "outputs": [
        {
          "name": "stdout",
          "output_type": "stream",
          "text": [
            "|          0| |          1| |          2| \n",
            "---------------------------------------------------------------------\n",
            "|          0| |          0| |          0| \n",
            "|          0| |          0| |          1| \n",
            "|          0| |          1| |          0| \n",
            "|          1| |          0| |          0| \n",
            "|          0| |          1| |          2| \n",
            "|          0| |          1| |          2| \n",
            "|          1| |          1| |          0| \n",
            "|          0| |          1| |          0| \n",
            "|          1| |          0| |          1| \n",
            "|          1| |          1| |          1| \n",
            "\n"
          ]
        }
      ]
    },
    {
      "cell_type": "code",
      "metadata": {
        "id": "ATACYO_g2k5w"
      },
      "source": [
        "def normalize(arr):\n",
        "  s = 0\n",
        "  ans = []\n",
        "\n",
        "  for x in arr:\n",
        "    s+= x\n",
        "  \n",
        "  for x in arr:\n",
        "    ans.append(x/s)\n",
        "  \n",
        "  return ans"
      ],
      "execution_count": null,
      "outputs": []
    },
    {
      "cell_type": "code",
      "metadata": {
        "id": "2rnjNdm1Xx6-"
      },
      "source": [
        "def get_factor(df, id):\n",
        "\n",
        "  def add_column(M, col):\n",
        "    for i in range(len(col)):\n",
        "      M[i].append(col[i])\n",
        "\n",
        "  cols = [id] + df.edges[id]\n",
        "\n",
        "  uniqs = []\n",
        "  cnt = []\n",
        "  ids = []\n",
        "  vuelta = []\n",
        "  total = 1\n",
        "\n",
        "  for x in cols:\n",
        "\n",
        "      uniqs.append([i for i in range(df.card[x])])\n",
        "      ids.append(total)\n",
        "          \n",
        "      total*= df.card[x]\n",
        "      \n",
        "      cnt.append(0)\n",
        "      vuelta.append(0)\n",
        "  \n",
        "  print(uniqs)\n",
        "\n",
        "  D = []\n",
        "  c_ans = []\n",
        "  c_norm = []\n",
        "  M = []\n",
        "\n",
        "  for u in range(total):\n",
        "      vals = []\n",
        "      i = 0\n",
        "      for x in cols:\n",
        "          vals.append([x, uniqs[i][cnt[i]]])\n",
        "          i+= 1\n",
        "      \n",
        "      M.append( [e[1] for e in vals] )\n",
        "\n",
        "      exp1 = df.prob_general(vals, total)\n",
        "      exp2 = df.prob_general(vals[1:], total/df.card[id])\n",
        "\n",
        "      if(len(df.edges[id]) == 0):\n",
        "        D.append(exp1)\n",
        "      \n",
        "      else:\n",
        "        D.append(exp1/exp2)\n",
        "\n",
        "      for j in range(len(cols)):\n",
        "          vuelta[j]+= 1\n",
        "          if(vuelta[j] == ids[j]):\n",
        "              cnt[j] = (cnt[j] + 1)%len(uniqs[j])\n",
        "              vuelta[j] = 0\n",
        "\n",
        "      if(len(D) == df.card[id]):\n",
        "        c_ans+= D\n",
        "        c_norm+= normalize(D)\n",
        "        D = []\n",
        "        \n",
        "  # Agregando columnas\n",
        "  add_column(M, c_ans)\n",
        "  add_column(M, c_norm)\n",
        "\n",
        "  return M\n"
      ],
      "execution_count": null,
      "outputs": []
    },
    {
      "cell_type": "code",
      "metadata": {
        "id": "bNJFZ4lRDyqO"
      },
      "source": [
        "def titulos():\n",
        "  titles_comb=[]\n",
        "  for i in range(len(df.headers)):\n",
        "    x = df.headers[i]\n",
        "    s = \"P(\" + str(x)\n",
        "    if (len(df.edges[x]) > 0):\n",
        "      s += '|' \n",
        "      edge_list = df.edges[x]\n",
        "      for j in range(len(edge_list)):\n",
        "        if(j != 0):\n",
        "          s+= \",\"\n",
        "        s += str(edge_list[j])\n",
        "    s+=\")\"\n",
        "    titles_comb.append(s)\n",
        "  return titles_comb"
      ],
      "execution_count": null,
      "outputs": []
    },
    {
      "cell_type": "code",
      "metadata": {
        "id": "5Ro-hV6BbySV"
      },
      "source": [
        "def titulos_with_values(drops):\n",
        "  titles_comb=[]\n",
        "  for i in range(len(df.headers)):\n",
        "    x = df.headers[i]\n",
        "    s = \"P(\" + str(x) + \"=\" + str(drops[i].value)\n",
        "    if (len(df.edges[x]) > 0):\n",
        "      s += '|' \n",
        "      edge_list = df.edges[x]\n",
        "      for j in range(len(edge_list)):\n",
        "        if(j != 0):\n",
        "          s+= \",\"\n",
        "        s += str(edge_list[j]) + \"=\" + str(drops[j].value)\n",
        "    s+=\")\"\n",
        "    titles_comb.append(s)\n",
        "  return titles_comb"
      ],
      "execution_count": null,
      "outputs": []
    },
    {
      "cell_type": "code",
      "metadata": {
        "id": "HqkefCs0zIrL"
      },
      "source": [
        "def hash_list(c1, c2):\n",
        "  return \"cols: \" + str(c1) + \" | vals: \" + str(c2) \n",
        "\n",
        "def map_fact(df):\n",
        "  map = dict()\n",
        "  for i in range(df.n_var):\n",
        "    cols = [i] + df.edges[i] \n",
        "    print(cols)\n",
        "    fact = get_factor(df,i)\n",
        "    for x in fact:\n",
        "      map[hash_list(cols, x[:-2])] = x[-1]\n",
        "\n",
        "  return map\n",
        "\n",
        "def get_val_fact(map, cols, vals):\n",
        "  return map[hash_list(cols, vals)]"
      ],
      "execution_count": null,
      "outputs": []
    },
    {
      "cell_type": "code",
      "metadata": {
        "colab": {
          "base_uri": "https://localhost:8080/"
        },
        "id": "YicRBrOgzjlL",
        "outputId": "b6be0d74-cc62-47a5-f206-ed1c3e818a69"
      },
      "source": [
        "map = map_fact(df)\n",
        "print(map)"
      ],
      "execution_count": null,
      "outputs": [
        {
          "name": "stdout",
          "output_type": "stream",
          "text": [
            "[0]\n",
            "[[0, 1]]\n",
            "[1, 0]\n",
            "[[0, 1], [0, 1]]\n",
            "[2, 1]\n",
            "[[0, 1, 2], [0, 1]]\n",
            "{'cols: [0] | vals: [0]': 0.583333, 'cols: [0] | vals: [1]': 0.416667, 'cols: [1, 0] | vals: [0, 0]': 0.3750002187498359, 'cols: [1, 0] | vals: [1, 0]': 0.624999781250164, 'cols: [1, 0] | vals: [0, 1]': 0.5, 'cols: [1, 0] | vals: [1, 1]': 0.5, 'cols: [2, 1] | vals: [0, 0]': 0.42857142857142855, 'cols: [2, 1] | vals: [1, 0]': 0.42857142857142855, 'cols: [2, 1] | vals: [2, 0]': 0.14285714285714288, 'cols: [2, 1] | vals: [0, 1]': 0.4444444444444445, 'cols: [2, 1] | vals: [1, 1]': 0.22222222222222224, 'cols: [2, 1] | vals: [2, 1]': 0.33333333333333337}\n"
          ]
        }
      ]
    },
    {
      "cell_type": "code",
      "metadata": {
        "colab": {
          "base_uri": "https://localhost:8080/"
        },
        "id": "XphcZZpwzK4j",
        "outputId": "1ecc138c-3202-4510-9536-c26520c6252f"
      },
      "source": [
        "get_val_fact(map, [0], [1])"
      ],
      "execution_count": null,
      "outputs": [
        {
          "data": {
            "text/plain": [
              "0.416667"
            ]
          },
          "execution_count": 11,
          "metadata": {
            "tags": []
          },
          "output_type": "execute_result"
        }
      ]
    },
    {
      "cell_type": "code",
      "metadata": {
        "id": "HwDpvDKAzNrx"
      },
      "source": [
        "def get_mult(df, map, cols, vals):\n",
        "  ans = []\n",
        "  D = dict(zip(cols, vals))\n",
        "\n",
        "  for x in cols:\n",
        "    cols_ = [x] + df.edges[x]\n",
        "    vals_ = [D[y] for y in cols_]\n",
        "\n",
        "    aux = get_val_fact(map, cols_, vals_)\n",
        "    ans.append(aux)\n",
        "  \n",
        "  return ans"
      ],
      "execution_count": null,
      "outputs": []
    },
    {
      "cell_type": "code",
      "metadata": {
        "colab": {
          "base_uri": "https://localhost:8080/"
        },
        "id": "BbqrQcQdzP2J",
        "outputId": "3a87ad5c-8369-45bf-f1b3-0d096b902dc1"
      },
      "source": [
        "get_mult(df, map, [0,1,2] , [0,1,0])"
      ],
      "execution_count": null,
      "outputs": [
        {
          "data": {
            "text/plain": [
              "[0.583333, 0.624999781250164, 0.4444444444444445]"
            ]
          },
          "execution_count": 13,
          "metadata": {
            "tags": []
          },
          "output_type": "execute_result"
        }
      ]
    },
    {
      "cell_type": "code",
      "metadata": {
        "id": "2oAqMHqwXCRv"
      },
      "source": [
        "def mostrarr(r,etiqueta,factor3):\n",
        "  hijo=list()\n",
        "  labels=list()\n",
        "  values=list()\n",
        "  \n",
        "  for i in range(len(etiqueta)):\n",
        "    label = widgets.Button(description = (etiqueta[i]),layout=widgets.Layout(width=\"100%\"))\n",
        "    value = widgets.Button(description = str(factor3[i]),layout=widgets.Layout(width=\"100%\"))\n",
        "    labels.append(label)\n",
        "    values.append(value)\n",
        "\n",
        "  label = widgets.Button(description = str(\"Resultado\"),layout=widgets.Layout(width=\"100%\"))\n",
        "  value = widgets.Button(description = str(r),layout=widgets.Layout(width=\"100%\"))\n",
        "  labels.append(label)\n",
        "  values.append(value)\n",
        "  \n",
        "  label_box = widgets.VBox(labels)\n",
        "  val_box = widgets.VBox(values)\n",
        "  hijo.append(widgets.HBox([label_box,val_box]))\n",
        "  children.append(hijo[0])\n",
        "  box.children=children"
      ],
      "execution_count": null,
      "outputs": []
    },
    {
      "cell_type": "markdown",
      "metadata": {
        "id": "YdNLCpyt40Qx"
      },
      "source": [
        "# APLICACIÓN"
      ]
    },
    {
      "cell_type": "code",
      "metadata": {
        "colab": {
          "base_uri": "https://localhost:8080/",
          "height": 49,
          "referenced_widgets": [
            "ef8048006f53491a8e548666ff8e2b69",
            "e6290f086c394db69418c9872263c914",
            "320b9ceaede9436b9df3dc1761df2513"
          ]
        },
        "id": "rVbVd4KQ0B1e",
        "outputId": "a5096907-75a9-4105-bced-b65dc1ccbca3"
      },
      "source": [
        "#@title Cargar archivo local\n",
        "uploader = widgets.FileUpload(accept='.txt',multiple=False,description=\"Subir .txt\")\n",
        "display(uploader)"
      ],
      "execution_count": null,
      "outputs": [
        {
          "data": {
            "application/vnd.jupyter.widget-view+json": {
              "model_id": "ef8048006f53491a8e548666ff8e2b69",
              "version_major": 2,
              "version_minor": 0
            },
            "text/plain": [
              "FileUpload(value={}, accept='.txt', description='Subir .txt')"
            ]
          },
          "metadata": {
            "tags": []
          },
          "output_type": "display_data"
        }
      ]
    },
    {
      "cell_type": "code",
      "metadata": {
        "cellView": "form",
        "colab": {
          "base_uri": "https://localhost:8080/"
        },
        "id": "nBw_jz0115v5",
        "outputId": "0cc6d9a2-6003-4a0c-936e-7a05a0febb2e"
      },
      "source": [
        "#@title Subiendo archivo\n",
        "if uploader.value == {}:\n",
        "  print(\"No hay ningun archivo subido.\")\n",
        "else:\n",
        "  uploaded_filename = next(iter(uploader.value))\n",
        "  content = uploader.value[uploaded_filename]['content']\n",
        "  with open('input.txt', 'wb') as f: f.write(content)\n",
        "\n",
        "from time import sleep\n",
        "sleep(5)\n",
        "print(\"Archivo subido\")"
      ],
      "execution_count": null,
      "outputs": [
        {
          "name": "stdout",
          "output_type": "stream",
          "text": [
            "No hay ningun archivo subido.\n",
            "Archivo subido\n"
          ]
        }
      ]
    },
    {
      "cell_type": "code",
      "metadata": {
        "cellView": "form",
        "colab": {
          "base_uri": "https://localhost:8080/",
          "height": 356
        },
        "id": "jkhG2l49FOoC",
        "outputId": "de775a1e-68f3-44bf-c35f-7bb542330981"
      },
      "source": [
        "#@title Leyendo dataframe\n",
        "df = Dataframe(\"input.txt\")\n",
        "print(df)\n",
        "\n",
        "factores = df.fact()\n",
        "titles_comb = titulos()"
      ],
      "execution_count": null,
      "outputs": [
        {
          "ename": "FileNotFoundError",
          "evalue": "ignored",
          "output_type": "error",
          "traceback": [
            "\u001b[0;31m---------------------------------------------------------------------------\u001b[0m",
            "\u001b[0;31mFileNotFoundError\u001b[0m                         Traceback (most recent call last)",
            "\u001b[0;32m<ipython-input-17-adf94fc322cd>\u001b[0m in \u001b[0;36m<module>\u001b[0;34m()\u001b[0m\n\u001b[1;32m      1\u001b[0m \u001b[0;31m#@title Leyendo dataframe\u001b[0m\u001b[0;34m\u001b[0m\u001b[0;34m\u001b[0m\u001b[0;34m\u001b[0m\u001b[0m\n\u001b[0;32m----> 2\u001b[0;31m \u001b[0mdf\u001b[0m \u001b[0;34m=\u001b[0m \u001b[0mDataframe\u001b[0m\u001b[0;34m(\u001b[0m\u001b[0;34m\"input.txt\"\u001b[0m\u001b[0;34m)\u001b[0m\u001b[0;34m\u001b[0m\u001b[0;34m\u001b[0m\u001b[0m\n\u001b[0m\u001b[1;32m      3\u001b[0m \u001b[0mprint\u001b[0m\u001b[0;34m(\u001b[0m\u001b[0mdf\u001b[0m\u001b[0;34m)\u001b[0m\u001b[0;34m\u001b[0m\u001b[0;34m\u001b[0m\u001b[0m\n\u001b[1;32m      4\u001b[0m \u001b[0;34m\u001b[0m\u001b[0m\n\u001b[1;32m      5\u001b[0m \u001b[0mfactores\u001b[0m \u001b[0;34m=\u001b[0m \u001b[0mdf\u001b[0m\u001b[0;34m.\u001b[0m\u001b[0mfact\u001b[0m\u001b[0;34m(\u001b[0m\u001b[0;34m)\u001b[0m\u001b[0;34m\u001b[0m\u001b[0;34m\u001b[0m\u001b[0m\n",
            "\u001b[0;32m<ipython-input-3-436e4f2a66f1>\u001b[0m in \u001b[0;36m__init__\u001b[0;34m(self, path)\u001b[0m\n\u001b[1;32m      7\u001b[0m         \u001b[0;31m#LECTURA DE DATOS\u001b[0m\u001b[0;34m\u001b[0m\u001b[0;34m\u001b[0m\u001b[0;34m\u001b[0m\u001b[0m\n\u001b[1;32m      8\u001b[0m         \u001b[0;31m#RECOLECCION DE FILAS\u001b[0m\u001b[0;34m\u001b[0m\u001b[0;34m\u001b[0m\u001b[0;34m\u001b[0m\u001b[0m\n\u001b[0;32m----> 9\u001b[0;31m         \u001b[0mfinput\u001b[0m \u001b[0;34m=\u001b[0m \u001b[0mopen\u001b[0m\u001b[0;34m(\u001b[0m\u001b[0mpath\u001b[0m\u001b[0;34m,\u001b[0m\u001b[0;34m\"r\"\u001b[0m\u001b[0;34m)\u001b[0m\u001b[0;34m\u001b[0m\u001b[0;34m\u001b[0m\u001b[0m\n\u001b[0m\u001b[1;32m     10\u001b[0m         \u001b[0mself\u001b[0m\u001b[0;34m.\u001b[0m\u001b[0mn_var\u001b[0m \u001b[0;34m=\u001b[0m \u001b[0mint\u001b[0m\u001b[0;34m(\u001b[0m\u001b[0mfinput\u001b[0m\u001b[0;34m.\u001b[0m\u001b[0mreadline\u001b[0m\u001b[0;34m(\u001b[0m\u001b[0;34m)\u001b[0m\u001b[0;34m.\u001b[0m\u001b[0mrstrip\u001b[0m\u001b[0;34m(\u001b[0m\u001b[0;34m)\u001b[0m\u001b[0;34m)\u001b[0m \u001b[0;31m# Numero de variables\u001b[0m\u001b[0;34m\u001b[0m\u001b[0;34m\u001b[0m\u001b[0m\n\u001b[1;32m     11\u001b[0m         \u001b[0mself\u001b[0m\u001b[0;34m.\u001b[0m\u001b[0mcard\u001b[0m\u001b[0;34m=\u001b[0m\u001b[0;34m[\u001b[0m\u001b[0;34m]\u001b[0m\u001b[0;34m\u001b[0m\u001b[0;34m\u001b[0m\u001b[0m\n",
            "\u001b[0;31mFileNotFoundError\u001b[0m: [Errno 2] No such file or directory: 'input.txt'"
          ]
        }
      ]
    },
    {
      "cell_type": "code",
      "metadata": {
        "cellView": "form",
        "id": "82H6kDlPe--j"
      },
      "source": [
        "#@title Tabla de Factores\n",
        "import re\n",
        "\n",
        "children = list()\n",
        "\n",
        "for i in range(len(titles_comb)):\n",
        "  \n",
        "  boxes = []\n",
        "  col = 0\n",
        "  for j in range(len(factores[i])):\n",
        "    labels = list()\n",
        "    for k in range(len(factores[i][j])):\n",
        "      label = widgets.Button(description = str(factores[i][j][k]),layout=widgets.Layout(width=\"10%\"))\n",
        "      labels.append(label) \n",
        "    label_box = widgets.HBox(labels)\n",
        "    boxes.append(label_box)\n",
        "\n",
        "  titles_ = re.findall('[0-9]+',titles_comb[i])\n",
        "  \n",
        "  title_labels = []\n",
        "  for title_label in titles_:\n",
        "    label = widgets.Button(description = title_label,layout=widgets.Layout(width=\"10%\"))\n",
        "    title_labels.append(label)\n",
        "  title_labels.append(widgets.Button(description = \"Prob\",layout=widgets.Layout(width=\"10%\")))\n",
        "  title_labels.append(widgets.Button(description = \"Prob Normalizada\",layout=widgets.Layout(width=\"10%\")))\n",
        "  title_box = widgets.HBox(title_labels)\n",
        "  children.append(widgets.VBox([title_box,*boxes]))\n",
        "\n",
        "tab = widgets.Tab()\n",
        "tab.children = children\n",
        "for i in range(len(titles_comb)):\n",
        "  tab.set_title(i,titles_comb[i])\n",
        "tab"
      ],
      "execution_count": null,
      "outputs": []
    },
    {
      "cell_type": "code",
      "metadata": {
        "cellView": "form",
        "colab": {
          "background_save": true,
          "referenced_widgets": [
            "2b10014e2e634a669fc7fbdd7f5c0cb1"
          ]
        },
        "id": "SrB3UR7s70MV",
        "outputId": "188ca012-2924-49bb-d9db-c8ebe619d563"
      },
      "source": [
        "#@title Formulario para el cálculo de probabilidad\n",
        "map = map_fact(df)\n",
        "children = list()\n",
        "box=widgets.VBox()\n",
        "drops=list()\n",
        "global borrar\n",
        "borrar =False\n",
        "for i in df.headers:\n",
        "  \n",
        "  drop = widgets.Dropdown(options=df.unique_val[i],\n",
        "    value=df.unique_val[i][0],\n",
        "    description=\"Variable {}:\".format(i),\n",
        "    )\n",
        "  # drop.observe(on_change)\n",
        "  drops.append(drop)\n",
        "children.append(widgets.VBox(drops))\n",
        "calcular=widgets.Button(\n",
        "    description='Calcular',\n",
        "    disabled=False,\n",
        "    button_style='info', # 'success', 'info', 'warning', 'danger' or ''\n",
        "    tooltip='',\n",
        "    icon='check'\n",
        "    )\n",
        "\n",
        "def Click(b):\n",
        "    etiqueta=[]\n",
        "    factor3=[]\n",
        "    resultado=0\n",
        "    global borrar\n",
        "    b=True\n",
        "    if borrar:\n",
        "      children.pop()\n",
        "      #children[-1].close()\n",
        "    query = []\n",
        "    for i,_ in enumerate(drops):\n",
        "      query.append(_.value)\n",
        "\n",
        "    result = 1\n",
        "    titles_comb_with_values = titulos_with_values(drops)\n",
        "    for i, val in enumerate(get_mult(df,map,df.headers,query)):\n",
        "\n",
        "      etiqueta.append(titles_comb_with_values[i])\n",
        "      factor3.append(val)\n",
        "      result *= val\n",
        "    \n",
        "    borrar=b\n",
        "    resultado=result\n",
        "    mostrarr(resultado,etiqueta,factor3)\n",
        "\n",
        "children.append(calcular)\n",
        "calcular.on_click(Click)\n",
        "\n",
        "box.children=children\n",
        "box"
      ],
      "execution_count": null,
      "outputs": [
        {
          "name": "stdout",
          "output_type": "stream",
          "text": [
            "[0]\n",
            "[[0, 1]]\n",
            "[1, 0]\n",
            "[[0, 1], [0, 1]]\n",
            "[2, 1]\n",
            "[[0, 1, 2], [0, 1]]\n"
          ]
        },
        {
          "data": {
            "application/vnd.jupyter.widget-view+json": {
              "model_id": "2b10014e2e634a669fc7fbdd7f5c0cb1",
              "version_major": 2,
              "version_minor": 0
            },
            "text/plain": [
              "VBox(children=(VBox(children=(Dropdown(description='Variable 0:', options=(0, 1), value=0), Dropdown(descripti…"
            ]
          },
          "metadata": {},
          "output_type": "display_data"
        }
      ]
    }
  ]
}
