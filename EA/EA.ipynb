{
  "nbformat": 4,
  "nbformat_minor": 0,
  "metadata": {
    "colab": {
      "name": "EA.ipynb",
      "provenance": [],
      "collapsed_sections": []
    },
    "kernelspec": {
      "display_name": "Python 3",
      "name": "python3"
    },
    "language_info": {
      "name": "python"
    }
  },
  "cells": [
    {
      "cell_type": "markdown",
      "metadata": {
        "id": "H_p5QDPtm-cq"
      },
      "source": [
        "#Examen Parcial\n",
        "##CC58 Tópicos en Ciencias de la Computación\n",
        "###Profesor: Pedro Shiguihara\n",
        "####UPC 2021\n"
      ]
    },
    {
      "cell_type": "code",
      "metadata": {
        "colab": {
          "base_uri": "https://localhost:8080/"
        },
        "id": "sKopDHRgGtfs",
        "outputId": "81b0fcfb-4edd-4a56-a6d9-40e276105b02"
      },
      "source": [
        "#@title Texto de título predeterminado\n",
        "%%writefile data.txt\n",
        "3\n",
        "2,2,3\n",
        "2\n",
        "0->1\n",
        "1->2\n",
        "1.0\n",
        "10\n",
        "0,0,0\n",
        "0,0,1\n",
        "0,1,0\n",
        "1,0,0\n",
        "0,1,2\n",
        "0,1,2\n",
        "1,1,0\n",
        "0,1,0\n",
        "1,0,1\n",
        "1,1,1"
      ],
      "execution_count": null,
      "outputs": [
        {
          "name": "stdout",
          "output_type": "stream",
          "text": [
            "Writing data.txt\n"
          ]
        }
      ]
    },
    {
      "cell_type": "code",
      "metadata": {
        "id": "FYUit8JkTm2z"
      },
      "source": [
        "import ipywidgets as widgets\n",
        "#https://colab.research.google.com/drive/1HnkyKNSvUqcsJkh5yGYCcZxBaCgxsQLl?usp=sharing"
      ],
      "execution_count": null,
      "outputs": []
    },
    {
      "cell_type": "code",
      "metadata": {
        "id": "bpORs0AuFKJR"
      },
      "source": [
        "class Dataframe:\n",
        "    \"\"\"\n",
        "    CREA UN OBJETO DATAFRAME QUE IMPLEMENTA MÉTODOS DE FUNCIÓN DE CONTEO\n",
        "    CARDINALIDAD, PROBABILIDAD MARGINAL, Y PROBABILIDAD CONJUNTA\n",
        "    \"\"\"\n",
        "    def __init__(self,path):\n",
        "        #LECTURA DE DATOS\n",
        "        #RECOLECCION DE FILAS\n",
        "        finput = open(path,\"r\")\n",
        "        self.n_var = int(finput.readline().rstrip()) # Numero de variables\n",
        "        self.card=[]\n",
        "        self.headers=[]\n",
        "        self.c = finput.readline().rstrip().split(',') # Cardinalidad\n",
        "        for i in range(self.n_var):\n",
        "          self.card.append(int(self.c[i]))\n",
        "          self.headers.append(i)\n",
        "        self.n_edges = int(finput.readline().rstrip()) # Numero de aristas\n",
        "        self.edges = [[] for _ in range(self.n_var)]   # Aristas\n",
        "        for _ in range(self.n_edges):\n",
        "            left, right = finput.readline().rstrip().split('->')\n",
        "            self.edges[int(right)].append(int(left)) # Leer aristas\n",
        "        self.hiper_param = float(finput.readline().rstrip()) # Hiperparametro de dirichlet\n",
        "        self.M = int(finput.readline().rstrip()) # Numero de instancias\n",
        "        self.data = [[] for _ in range(self.M)] # Data\n",
        "        for i in range(self.M):\n",
        "          data_split = finput.readline().rstrip().split(',')\n",
        "          for val in data_split:\n",
        "              self.data[i].append(int(val))\n",
        "        finput.close()\n",
        "        self.cols = []\n",
        "        # OBTENER VALORES DISTINTOS DE CADA COLUMNA\n",
        "        self.unique_val = dict()\n",
        "        for i, head in enumerate(self.headers):\n",
        "            self.unique_val[head] = list()\n",
        "            for row in self.data:\n",
        "                if row[i] not in self.unique_val[head]:\n",
        "                    self.unique_val[head].append(row[i])\n",
        "    \n",
        "    #IMPRIMIR DATASET\n",
        "    def __str__(self):\n",
        "        result = \"\"\"\"\"\"\n",
        "        for head in self.headers:\n",
        "            result += '|{:>11}| '.format(head)\n",
        "        result+=\"\\n---------------------------------------------------------------------\\n\"\n",
        "        for row in self.data:\n",
        "            for val in row:\n",
        "                result+='|{:>11}| '.format(val)\n",
        "            result+=\"\\n\"\n",
        "        return result\n",
        "\n",
        "    #FUNCIÓN CONTEO\n",
        "    def rep(self, params):\n",
        "        cnt = 0\n",
        "        for row in self.data:\n",
        "            ok = True\n",
        "            for x in params:\n",
        "              if(row[x[0]] != x[1]):\n",
        "                ok = False\n",
        "            if(ok):\n",
        "              cnt+= 1\n",
        "        return cnt\n",
        "\n",
        "    def prob_general(self, params, factor):\n",
        "        # (m[value] + p) / (M + (p * card(column))\n",
        "        exp1 = self.rep(params) + self.hiper_param\n",
        "        exp2 = self.M + (self.hiper_param * factor)\n",
        "        return round(exp1/exp2,6)    \n",
        "\n",
        "    def get_dag(self):\n",
        "      size = 0\n",
        "      self.dag = []\n",
        "      indexx = 0\n",
        "      while len(self.dag) < len(self.edges):\n",
        "          for i, val in enumerate(self.edges):\n",
        "            if not val and not self.dag:\n",
        "              self.dag.append(i)\n",
        "              break\n",
        "            else:\n",
        "              if val:\n",
        "                if self.dag[indexx] == val[0]:\n",
        "                  self.dag.append(i)\n",
        "                  indexx += 1\n",
        "                  break\n",
        "\n",
        "    def get_query(self):\n",
        "      self.get_dag()\n",
        "      query = []\n",
        "      for col in self.dag:\n",
        "        query.append([col,0])\n",
        "      return query\n",
        "\n",
        "    def fact(self):\n",
        "      factores=[]\n",
        "      for i in range(self.n_var):\n",
        "        factores.append(get_factor(self,i))\n",
        "      return factores"
      ],
      "execution_count": null,
      "outputs": []
    },
    {
      "cell_type": "code",
      "metadata": {
        "colab": {
          "base_uri": "https://localhost:8080/"
        },
        "id": "-DLI9Ez9OEHE",
        "outputId": "e3951c4f-080b-4095-c289-5f9ba764bb41"
      },
      "source": [
        "df = Dataframe(\"data.txt\")\n",
        "print(df)"
      ],
      "execution_count": null,
      "outputs": [
        {
          "name": "stdout",
          "output_type": "stream",
          "text": [
            "|          0| |          1| |          2| \n",
            "---------------------------------------------------------------------\n",
            "|          0| |          0| |          0| \n",
            "|          0| |          0| |          1| \n",
            "|          0| |          1| |          0| \n",
            "|          1| |          0| |          0| \n",
            "|          0| |          1| |          2| \n",
            "|          0| |          1| |          2| \n",
            "|          1| |          1| |          0| \n",
            "|          0| |          1| |          0| \n",
            "|          1| |          0| |          1| \n",
            "|          1| |          1| |          1| \n",
            "\n"
          ]
        }
      ]
    },
    {
      "cell_type": "code",
      "metadata": {
        "id": "ATACYO_g2k5w"
      },
      "source": [
        "def normalize(arr):\n",
        "  s = 0\n",
        "  ans = []\n",
        "\n",
        "  for x in arr:\n",
        "    s+= x\n",
        "  \n",
        "  for x in arr:\n",
        "    ans.append(x/s)\n",
        "  \n",
        "  return ans"
      ],
      "execution_count": null,
      "outputs": []
    },
    {
      "cell_type": "code",
      "metadata": {
        "id": "2rnjNdm1Xx6-"
      },
      "source": [
        "def get_factor(df, id):\n",
        "\n",
        "  def add_column(M, col):\n",
        "    for i in range(len(col)):\n",
        "      M[i].append(col[i])\n",
        "\n",
        "  cols = [id] + df.edges[id]\n",
        "\n",
        "  uniqs = []\n",
        "  cnt = []\n",
        "  ids = []\n",
        "  vuelta = []\n",
        "  total = 1\n",
        "\n",
        "  for x in cols:\n",
        "\n",
        "      uniqs.append([i for i in range(df.card[x])])\n",
        "      ids.append(total)\n",
        "          \n",
        "      total*= df.card[x]\n",
        "      \n",
        "      cnt.append(0)\n",
        "      vuelta.append(0)\n",
        "  \n",
        "  print(uniqs)\n",
        "\n",
        "  D = []\n",
        "  c_ans = []\n",
        "  c_norm = []\n",
        "  M = []\n",
        "\n",
        "  for u in range(total):\n",
        "      vals = []\n",
        "      i = 0\n",
        "      for x in cols:\n",
        "          vals.append([x, uniqs[i][cnt[i]]])\n",
        "          i+= 1\n",
        "      \n",
        "      M.append( [e[1] for e in vals] )\n",
        "\n",
        "      exp1 = df.prob_general(vals, total)\n",
        "      exp2 = df.prob_general(vals[1:], total/df.card[id])\n",
        "\n",
        "      if(len(df.edges[id]) == 0):\n",
        "        D.append(exp1)\n",
        "      \n",
        "      else:\n",
        "        D.append(exp1/exp2)\n",
        "\n",
        "      for j in range(len(cols)):\n",
        "          vuelta[j]+= 1\n",
        "          if(vuelta[j] == ids[j]):\n",
        "              cnt[j] = (cnt[j] + 1)%len(uniqs[j])\n",
        "              vuelta[j] = 0\n",
        "\n",
        "      if(len(D) == df.card[id]):\n",
        "        c_ans+= D\n",
        "        c_norm+= normalize(D)\n",
        "        D = []\n",
        "        \n",
        "  # Agregando columnas\n",
        "  add_column(M, c_ans)\n",
        "  add_column(M, c_norm)\n",
        "\n",
        "  return M\n"
      ],
      "execution_count": null,
      "outputs": []
    },
    {
      "cell_type": "code",
      "metadata": {
        "id": "bNJFZ4lRDyqO"
      },
      "source": [
        "def titulos():\n",
        "  titles_comb=[]\n",
        "  for i in range(len(df.headers)):\n",
        "    x = df.headers[i]\n",
        "    s = \"P(\" + str(x)\n",
        "    if (len(df.edges[x]) > 0):\n",
        "      s += '|' \n",
        "      edge_list = df.edges[x]\n",
        "      for j in range(len(edge_list)):\n",
        "        if(j != 0):\n",
        "          s+= \",\"\n",
        "        s += str(edge_list[j])\n",
        "    s+=\")\"\n",
        "    titles_comb.append(s)\n",
        "  return titles_comb"
      ],
      "execution_count": null,
      "outputs": []
    },
    {
      "cell_type": "code",
      "metadata": {
        "id": "5Ro-hV6BbySV"
      },
      "source": [
        "def titulos_with_values(drops):\n",
        "  titles_comb=[]\n",
        "  for i in range(len(df.headers)):\n",
        "    x = df.headers[i]\n",
        "    s = \"P(\" + str(x) + \"=\" + str(drops[i].value)\n",
        "    if (len(df.edges[x]) > 0):\n",
        "      s += '|' \n",
        "      edge_list = df.edges[x]\n",
        "      for j in range(len(edge_list)):\n",
        "        if(j != 0):\n",
        "          s+= \",\"\n",
        "        s += str(edge_list[j]) + \"=\" + str(drops[j].value)\n",
        "    s+=\")\"\n",
        "    titles_comb.append(s)\n",
        "  return titles_comb"
      ],
      "execution_count": null,
      "outputs": []
    },
    {
      "cell_type": "code",
      "metadata": {
        "id": "HqkefCs0zIrL"
      },
      "source": [
        "def hash_list(c1, c2):\n",
        "  return \"cols: \" + str(c1) + \" | vals: \" + str(c2) \n",
        "\n",
        "def map_fact(df):\n",
        "  map = dict()\n",
        "  for i in range(df.n_var):\n",
        "    cols = [i] + df.edges[i] \n",
        "    print(cols)\n",
        "    fact = get_factor(df,i)\n",
        "    for x in fact:\n",
        "      map[hash_list(cols, x[:-2])] = x[-1]\n",
        "\n",
        "  return map\n",
        "\n",
        "def get_val_fact(map, cols, vals):\n",
        "  return map[hash_list(cols, vals)]"
      ],
      "execution_count": null,
      "outputs": []
    },
    {
      "cell_type": "code",
      "metadata": {
        "colab": {
          "base_uri": "https://localhost:8080/"
        },
        "id": "YicRBrOgzjlL",
        "outputId": "b6be0d74-cc62-47a5-f206-ed1c3e818a69"
      },
      "source": [
        "map = map_fact(df)\n",
        "print(map)"
      ],
      "execution_count": null,
      "outputs": [
        {
          "name": "stdout",
          "output_type": "stream",
          "text": [
            "[0]\n",
            "[[0, 1]]\n",
            "[1, 0]\n",
            "[[0, 1], [0, 1]]\n",
            "[2, 1]\n",
            "[[0, 1, 2], [0, 1]]\n",
            "{'cols: [0] | vals: [0]': 0.583333, 'cols: [0] | vals: [1]': 0.416667, 'cols: [1, 0] | vals: [0, 0]': 0.3750002187498359, 'cols: [1, 0] | vals: [1, 0]': 0.624999781250164, 'cols: [1, 0] | vals: [0, 1]': 0.5, 'cols: [1, 0] | vals: [1, 1]': 0.5, 'cols: [2, 1] | vals: [0, 0]': 0.42857142857142855, 'cols: [2, 1] | vals: [1, 0]': 0.42857142857142855, 'cols: [2, 1] | vals: [2, 0]': 0.14285714285714288, 'cols: [2, 1] | vals: [0, 1]': 0.4444444444444445, 'cols: [2, 1] | vals: [1, 1]': 0.22222222222222224, 'cols: [2, 1] | vals: [2, 1]': 0.33333333333333337}\n"
          ]
        }
      ]
    },
    {
      "cell_type": "code",
      "metadata": {
        "colab": {
          "base_uri": "https://localhost:8080/"
        },
        "id": "XphcZZpwzK4j",
        "outputId": "1ecc138c-3202-4510-9536-c26520c6252f"
      },
      "source": [
        "get_val_fact(map, [0], [1])"
      ],
      "execution_count": null,
      "outputs": [
        {
          "data": {
            "text/plain": [
              "0.416667"
            ]
          },
          "execution_count": 11,
          "metadata": {
            "tags": []
          },
          "output_type": "execute_result"
        }
      ]
    },
    {
      "cell_type": "code",
      "metadata": {
        "id": "HwDpvDKAzNrx"
      },
      "source": [
        "def get_mult(df, map, cols, vals):\n",
        "  ans = []\n",
        "  D = dict(zip(cols, vals))\n",
        "\n",
        "  for x in cols:\n",
        "    cols_ = [x] + df.edges[x]\n",
        "    vals_ = [D[y] for y in cols_]\n",
        "\n",
        "    aux = get_val_fact(map, cols_, vals_)\n",
        "    ans.append(aux)\n",
        "  \n",
        "  return ans"
      ],
      "execution_count": null,
      "outputs": []
    },
    {
      "cell_type": "code",
      "metadata": {
        "colab": {
          "base_uri": "https://localhost:8080/"
        },
        "id": "BbqrQcQdzP2J",
        "outputId": "3a87ad5c-8369-45bf-f1b3-0d096b902dc1"
      },
      "source": [
        "get_mult(df, map, [0,1,2] , [0,1,0])"
      ],
      "execution_count": null,
      "outputs": [
        {
          "data": {
            "text/plain": [
              "[0.583333, 0.624999781250164, 0.4444444444444445]"
            ]
          },
          "execution_count": 13,
          "metadata": {
            "tags": []
          },
          "output_type": "execute_result"
        }
      ]
    }
  ]
}