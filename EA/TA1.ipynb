{
  "nbformat": 4,
  "nbformat_minor": 0,
  "metadata": {
    "colab": {
      "name": "Topicos-TA1.ipynb",
      "provenance": [],
      "collapsed_sections": []
    },
    "kernelspec": {
      "name": "python3",
      "display_name": "Python 3"
    },
    "language_info": {
      "name": "python"
    }
  },
  "cells": [
    {
      "cell_type": "markdown",
      "metadata": {
        "id": "qrsQiEbhayIL"
      },
      "source": [
        "#TOPICOS - TA1\n",
        "##Integrantes:\n",
        "\n",
        "*   Fiorella Barrientos \n",
        "*   Antonio Salazar\n",
        "*   Sergio Villarruel\n",
        "*   Franco Vigil"
      ]
    },
    {
      "cell_type": "markdown",
      "metadata": {
        "id": "R1BfjxofK6kn"
      },
      "source": [
        "##Producto Cartesiano\n",
        "\n",
        "El producto cartesiano de dos conjuntos resulta en otro conjunto, cuyos elementos son todos los pares ordenados que pueden formarse de forma que el primer elemento del par ordenado pertenezca al primer conjunto y el segundo elemento pertenezca al segundo conjunto.\n",
        "\n",
        "Por ejemplo, teniendo los conjuntos:\n",
        "\n",
        "$A$ = {1, 2}\n",
        "\n",
        "$B$ = {x, y, z}\n",
        "\n",
        "El producto cartesiando de ambos será\n",
        "\n",
        "$A x B$ = { (1, x); (1, y); (1, z); (2, x); (2 ,y); (2 ,z) }\n",
        "\n",
        "Y el número de elementos que contiene el producto cartesiano es la multiplicación del número de elementos del conjunto A y B \n",
        "\n",
        "$n(AxB) = n(A) * n(B)$"
      ]
    },
    {
      "cell_type": "markdown",
      "metadata": {
        "id": "Vkvji2JAPbq4"
      },
      "source": [
        "**Algoritmo de Producto cartesiano\n",
        "para tuplas**"
      ]
    },
    {
      "cell_type": "code",
      "metadata": {
        "id": "A9CyFgjBPdlF"
      },
      "source": [
        "def cartesianProduct(tuple_a, tuple_b):\n",
        "  result = tuple()\n",
        "  for num in tuple_a:\n",
        "    for nam in tuple_b:\n",
        "      result += ((num, nam), )\n",
        "  return result \n"
      ],
      "execution_count": null,
      "outputs": []
    },
    {
      "cell_type": "markdown",
      "metadata": {
        "id": "h-OJwNL0Ppa9"
      },
      "source": [
        "**Algoritmo de Producto cartesiano\n",
        "para listas**"
      ]
    },
    {
      "cell_type": "code",
      "metadata": {
        "id": "4w8lr5ShPnOf"
      },
      "source": [
        "def cartesianProductB(list_a, list_b):\n",
        "  result = []\n",
        "  for num in list_a:\n",
        "    for nam in list_b:\n",
        "      result.append([num, nam])\n",
        "  return result \n",
        "  "
      ],
      "execution_count": null,
      "outputs": []
    },
    {
      "cell_type": "markdown",
      "metadata": {
        "id": "HteRmvmJPxzR"
      },
      "source": [
        "**Algoritmo Johnson\n",
        "Trotter para listas**"
      ]
    },
    {
      "cell_type": "markdown",
      "metadata": {
        "id": "fZs3YJ8qVjVD"
      },
      "source": [
        "Algoritmo para generar todas las permutaciones basandose en que se puede conseguir todas las permutaciones incertando un elemento en cada posicion. \n",
        "\n",
        "1. Encontrar el elemento movil mayor (elemento que es mayor a su vecino inmediato dependiendo de la direccion)\n",
        "2. Cambiar el numero movil con ese vecino inmediato en la direccion \n",
        "3. Cambiar direccion de todos los elementos valores al movil"
      ]
    },
    {
      "cell_type": "code",
      "metadata": {
        "id": "OWv388MFQ4Gc"
      },
      "source": [
        "def fact(n):\n",
        "  ans = n\n",
        "  for i in range(2, n):\n",
        "    ans*= i \n",
        "  return ans"
      ],
      "execution_count": null,
      "outputs": []
    },
    {
      "cell_type": "code",
      "metadata": {
        "id": "sPDD84gORQ9g"
      },
      "source": [
        "def searchmob(a, dir, n):\n",
        "  m = 0\n",
        "  id = -1\n",
        "\n",
        "  for i in range(n):\n",
        "    if (dir[a[i] - 1] == 0):\n",
        "      if (i != 0 and a[i] > a[i - 1] and a[i] > m):\n",
        "        m = a[i]\n",
        "        id = i\n",
        "        \n",
        "    else:\n",
        "      if (i != n - 1 and a[i] > a[i + 1] and a[i] > m):\n",
        "        m = a[i]\n",
        "        id = i\n",
        "      \n",
        "  return (m, id)\n",
        "  "
      ],
      "execution_count": null,
      "outputs": []
    },
    {
      "cell_type": "code",
      "metadata": {
        "id": "FVnUGxUwPtg3"
      },
      "source": [
        "def johnsontrotter(a):\n",
        "  perms = [a.copy()]\n",
        "\n",
        "  n = len(a)\n",
        "  dir = [0]*n\n",
        "  lim = fact(n) - 1\n",
        "\n",
        "  for i in range(lim):\n",
        "    m, id = searchmob(a, dir, n);\n",
        "  \n",
        "    if (dir[a[id] - 1] ==  0):\n",
        "      a[id], a[id-1] = (a[id-1], a[id])\n",
        "  \n",
        "    else:\n",
        "      a[id+1], a[id] = (a[id], a[id + 1])\n",
        "  \n",
        "    for i in range(n):\n",
        "      if(a[i] > m):\n",
        "        dir[a[i] - 1] = not dir[a[i] - 1]\n",
        "  \n",
        "    perms.append(a.copy())\n",
        "\n",
        "  return perms\n"
      ],
      "execution_count": null,
      "outputs": []
    },
    {
      "cell_type": "code",
      "metadata": {
        "colab": {
          "base_uri": "https://localhost:8080/"
        },
        "id": "-O6eZCvFY1ww",
        "outputId": "3f2e0004-7658-4ff3-a797-8f3e8c807510"
      },
      "source": [
        "from time import time\n",
        "\n",
        "dt = time()\n",
        "a = johnsontrotter([1,2,3,4])\n",
        "print(time()-dt)\n",
        "\n",
        "for x in a:\n",
        "  print(x)"
      ],
      "execution_count": null,
      "outputs": [
        {
          "output_type": "stream",
          "text": [
            "0.0002143383026123047\n",
            "[1, 2, 3, 4]\n",
            "[1, 2, 4, 3]\n",
            "[1, 4, 2, 3]\n",
            "[4, 1, 2, 3]\n",
            "[4, 1, 3, 2]\n",
            "[1, 4, 3, 2]\n",
            "[1, 3, 4, 2]\n",
            "[1, 3, 2, 4]\n",
            "[3, 1, 2, 4]\n",
            "[3, 1, 4, 2]\n",
            "[3, 4, 1, 2]\n",
            "[4, 3, 1, 2]\n",
            "[4, 3, 2, 1]\n",
            "[3, 4, 2, 1]\n",
            "[3, 2, 4, 1]\n",
            "[3, 2, 1, 4]\n",
            "[2, 3, 1, 4]\n",
            "[2, 3, 4, 1]\n",
            "[2, 4, 3, 1]\n",
            "[4, 2, 3, 1]\n",
            "[4, 2, 1, 3]\n",
            "[2, 4, 1, 3]\n",
            "[2, 1, 4, 3]\n",
            "[2, 1, 3, 4]\n"
          ],
          "name": "stdout"
        }
      ]
    },
    {
      "cell_type": "code",
      "metadata": {
        "id": "AJYSzKxrWrVn"
      },
      "source": [
        "def permutations(iterable, r=None):\n",
        "    pool = tuple(iterable)\n",
        "    n = len(pool)\n",
        "    r = n if r is None else r\n",
        "    if r > n:\n",
        "        return\n",
        "    indices = list(range(n))\n",
        "    cycles = list(range(n, n-r, -1))\n",
        "    yield tuple(pool[i] for i in indices[:r])\n",
        "    while n:\n",
        "        for i in reversed(range(r)):\n",
        "            cycles[i] -= 1\n",
        "            if cycles[i] == 0:\n",
        "                indices[i:] = indices[i+1:] + indices[i:i+1]\n",
        "                cycles[i] = n - i\n",
        "            else:\n",
        "                j = cycles[i]\n",
        "                indices[i], indices[-j] = indices[-j], indices[i]\n",
        "                yield tuple(pool[i] for i in indices[:r])\n",
        "                break\n",
        "        else:\n",
        "            return"
      ],
      "execution_count": null,
      "outputs": []
    },
    {
      "cell_type": "code",
      "metadata": {
        "id": "R1rMT9avtrIK"
      },
      "source": [
        "def product(*args, repeat=1):\n",
        "    pools = [tuple(pool) for pool in args] * repeat\n",
        "    result = [[]]\n",
        "    for pool in pools:\n",
        "        result = [x+[y] for x in result for y in pool]\n",
        "    for prod in result:\n",
        "        yield tuple(prod)"
      ],
      "execution_count": null,
      "outputs": []
    },
    {
      "cell_type": "code",
      "metadata": {
        "id": "kWeIJDWMc7Tw"
      },
      "source": [
        "subset = [('A',),('B',),('C',),('A','B'),('B','C'),('C','A'),('A','B','C')]\n",
        "\n",
        "a_values = ['#','$','&']\n",
        "b_values = ['a','b','c']\n",
        "c_values = ['X','Y']\n",
        "\n",
        "map = {'A': a_values,\n",
        "       'B': b_values,\n",
        "       'C': c_values}"
      ],
      "execution_count": null,
      "outputs": []
    },
    {
      "cell_type": "code",
      "metadata": {
        "colab": {
          "base_uri": "https://localhost:8080/"
        },
        "id": "CvDJv6tptvhc",
        "outputId": "a01ee38e-2b2f-458d-f279-c61486ac3b12"
      },
      "source": [
        "for per in permutations(subset,r=2):\n",
        "    if verify(per[0],[1]) and verify(per[1],per[0]):\n",
        "        print('P(',*per[0],'|',*per[1],')')"
      ],
      "execution_count": null,
      "outputs": [
        {
          "output_type": "stream",
          "text": [
            "P( A | B )\n",
            "P( A | C )\n",
            "P( A | B C )\n",
            "P( B | A )\n",
            "P( B | C )\n",
            "P( B | C A )\n",
            "P( C | A )\n",
            "P( C | B )\n",
            "P( C | A B )\n",
            "P( A B | C )\n",
            "P( B C | A )\n",
            "P( C A | B )\n"
          ],
          "name": "stdout"
        }
      ]
    },
    {
      "cell_type": "code",
      "metadata": {
        "id": "Fjjhqajatw_D"
      },
      "source": [
        "for per in permutations(subset,r=3):\n",
        "    if verify(per[0],[1]) and verify(per[1],per[0]):\n",
        "        print('--------------------------')\n",
        "        print('P(',*per[0],'|',*per[1],')')\n",
        "        print('--------------------------')\n",
        "        \n",
        "        values = []\n",
        "\n",
        "        for p in per[0]:\n",
        "            values.append(map[p])\n",
        "        values.append(['|'])\n",
        "        for p in per[1]:\n",
        "            values.append(map[p])\n",
        "\n",
        "        for comb in product(*values,repeat=1):\n",
        "            print('P(',*comb,')')\n",
        "        "
      ],
      "execution_count": null,
      "outputs": []
    },
    {
      "cell_type": "code",
      "metadata": {
        "id": "WO1FG2lht26x"
      },
      "source": [
        "def funcfunc():\n",
        "    for i in range(10):\n",
        "        yield i\n",
        "\n",
        "for p in funcfunc():\n",
        "    prin"
      ],
      "execution_count": null,
      "outputs": []
    },
    {
      "cell_type": "markdown",
      "metadata": {
        "id": "zUj5wkjv6VOb"
      },
      "source": [
        "HACKER RANK #1"
      ]
    },
    {
      "cell_type": "code",
      "metadata": {
        "id": "ZQQD-PdK6Wfv"
      },
      "source": [
        "N = int(input()) #Num Var\n",
        "M = int(input()) #Registro\n",
        "p = int(input()) #hiper\n",
        "\n",
        "headers = input().split(',')\n",
        "\n",
        "data = []\n",
        "    \n",
        "for i in range(M):\n",
        "  data.append(input().split(','))\n",
        "    \n",
        "q_column, q_value = input().split('=')\n",
        "\n",
        "def m(q_value, q_column, data, headers):\n",
        "  idx = headers.find(q_column)\n",
        "  cnt = 0\n",
        "  for row in data:\n",
        "    if(row[idx] == q_value): \n",
        "      cnt+=1\n",
        "  return cnt\n",
        "  \n",
        "def m(q_value, q_column, data, headers):\n",
        "  idx = headers.index(q_column)\n",
        "  cnt = 0\n",
        "  for row in data:\n",
        "    if row[idx] == q_value: \n",
        "      cnt+=1\n",
        "  return cnt\n",
        "\n",
        "def card(q_column, headers, data):\n",
        "  idx = headers.index(q_column)\n",
        "  distinct = []\n",
        "  for row in data:\n",
        "    if row[idx] not in distinct:\n",
        "      distinct.append(row[idx])\n",
        "  return len(distinct)\n",
        "\n",
        "def porb_marg(q_value, q_column, data, headers):\n",
        "  # (m[value] + p) / (M + (p * card(column))\n",
        "  exp1 = m(q_value, q_column, data, headers) + p\n",
        "  exp2 = M + (p * card(q_column, headers, data))\n",
        "  return format(exp1/exp2, '.6f')\n",
        "\n",
        "print(porb_marg(q_value, q_column, data, headers))"
      ],
      "execution_count": null,
      "outputs": []
    },
    {
      "cell_type": "markdown",
      "metadata": {
        "id": "hsPRPsxo6h3q"
      },
      "source": [
        "HACKERANK #2"
      ]
    },
    {
      "cell_type": "code",
      "metadata": {
        "id": "Mmq7bq6Q6j8v"
      },
      "source": [
        "N = int(input()) #Num Var\n",
        "M = int(input()) #Registros\n",
        "p = int(input()) #hiper\n",
        "\n",
        "headers = input().split(',')\n",
        "data = []\n",
        "\n",
        "for i in range(M):\n",
        "  data.append(input().split(','))\n",
        "\n",
        "q_column = input()\n",
        "\n",
        "def m(q_value, q_column, data, headers):\n",
        "  idx = headers.index(q_column)\n",
        "  cnt = 0\n",
        "  for row in data:\n",
        "    if row[idx] == q_value: \n",
        "      cnt+=1\n",
        "  return cnt\n",
        "\n",
        "def card(q_column, headers, data):\n",
        "  idx = headers.index(q_column)\n",
        "  distinct = []\n",
        "  for row in data:\n",
        "    if row[idx] not in distinct:\n",
        "      distinct.append(row[idx])\n",
        "  return len(distinct)\n",
        "\n",
        "def get_distinct(q_column, headers, data):\n",
        "  idx = headers.index(q_column)\n",
        "  distinct = []\n",
        "  for row in data:\n",
        "    if row[idx] not in distinct:\n",
        "      distinct.append(row[idx])\n",
        "  return distinct\n",
        "\n",
        "def porb_marg(q_value, q_column, data, headers):\n",
        "  # (m[value] + p) / (M + (p * card(column))\n",
        "  exp1 = m(q_value, q_column, data, headers) + p\n",
        "  exp2 = M + (p * card(q_column, headers, data))\n",
        "  return format(exp1/exp2,'.6f')\n",
        "\n",
        "print(\"P({})\".format(q_column))\n",
        "for q_val in list(get_distinct(q_column, headers, data)):\n",
        "  print(q_val,\":\",porb_marg(q_val, q_column, data, headers),sep=\"\")"
      ],
      "execution_count": null,
      "outputs": []
    },
    {
      "cell_type": "markdown",
      "metadata": {
        "id": "GnYRZr2l6tS-"
      },
      "source": [
        "HACKERRANK #3"
      ]
    },
    {
      "cell_type": "code",
      "metadata": {
        "id": "I3mbOuOr6umk"
      },
      "source": [
        "N = int(input()) #Num Var\n",
        "M = int(input()) #Registros\n",
        "p = int(input()) #hiper\n",
        " \n",
        "headers = input().split(',')\n",
        "data = []\n",
        " \n",
        "for i in range(M):\n",
        "  data.append(input().split(','))\n",
        " \n",
        "aux = input().split(\",\")\n",
        " \n",
        "def idx(name, headers):\n",
        "    for i in range(len(headers)):\n",
        "        if(headers[i] == name):\n",
        "            return i\n",
        " \n",
        "    return 0\n",
        " \n",
        "cols = []\n",
        "for x in aux:\n",
        "    lol = x.split(\"=\")\n",
        "    cols.append([idx(lol[0], headers),lol[1]])\n",
        " \n",
        "cols.sort(key=lambda tup: tup[0])\n",
        " \n",
        "exp1 = p\n",
        "for x in data:\n",
        "    cnt = 0\n",
        "    for i in range(len(cols)):\n",
        "        if(x[cols[i][0]] == cols[i][1]):\n",
        "            cnt+= 1\n",
        " \n",
        "    if(cnt == len(cols)):\n",
        "        exp1+= 1\n",
        " \n",
        "cards = 1\n",
        "for col in cols:\n",
        "    st = set()\n",
        "    for elem in data:\n",
        "        st.add(elem[col[0]])\n",
        " \n",
        "    cards*= len(st)\n",
        " \n",
        "val_cal = \"\"\n",
        "for i in range(len(cols)):\n",
        "    if(i != 0):\n",
        "        val_cal+=\",\"\n",
        "    val_cal+= headers[cols[i][0]] + \"=\" + cols[i][1] \n",
        " \n",
        "print(\"P(\" + val_cal + \")={:.6f}\".format(exp1/(M + p*cards)))"
      ],
      "execution_count": null,
      "outputs": []
    },
    {
      "cell_type": "code",
      "metadata": {
        "id": "U8qxDiHHMNN0"
      },
      "source": [
        "N = int(input())\n",
        "M = int(input()) #Num Var\n",
        "p = int(input()) #hiper\n",
        " \n",
        "headers = input().split(',')\n",
        "data = []\n",
        " \n",
        "for i in range(M):\n",
        "  data.append(input().split(','))\n",
        " \n",
        "aux = input().split(\",\")\n",
        " \n",
        " \n",
        "def idx(name, headers):\n",
        "\tfor i in range(len(headers)):\n",
        "\t\tif(headers[i] == name):\n",
        "\t\t\treturn i\n",
        " \n",
        "\treturn 0\n",
        " \n",
        "cols = []\n",
        "for x in aux:\n",
        "\tcols.append(idx(x, headers))\n",
        " \n",
        "cols.sort()\n",
        " \n",
        "def get_pcon(cols):\n",
        "\texp1 = p\n",
        "\tfor x in data:\n",
        "\t\tcnt = 0\n",
        "\t\tfor i in range(len(cols)):\n",
        "\t\t\tif(x[cols[i][0]] == cols[i][1]):\n",
        "\t\t\t\tcnt+= 1\n",
        " \n",
        "\t\tif(cnt == len(cols)):\n",
        "\t\t\texp1+= 1\n",
        " \n",
        "\tcards = 1\n",
        "\tfor col in cols:\n",
        "\t\tst = set()\n",
        "\t\tfor elem in data:\n",
        "\t\t\tst.add(elem[col[0]])\n",
        " \n",
        "\t\tcards*= len(st)\n",
        " \n",
        "\tval_cal = \"\"\n",
        "\tfor i in range(len(cols)):\n",
        "\t\tif(i != 0):\n",
        "\t\t\tval_cal+=\",\"\n",
        "\t\tval_cal+= headers[cols[i][0]] + \"=\" + cols[i][1] \n",
        " \n",
        "\tprint( \"P(\" + val_cal + \")={:.6f}\".format(exp1/(M + p*cards)) )\n",
        " \n",
        "def uniq_vals(data, col):\n",
        "\tst = []\n",
        "\tfor x in data:\n",
        "\t\tif(x[col] in st):\n",
        "\t\t\tcontinue\n",
        "\t\tst.append(x[col])\n",
        " \n",
        "\treturn st\n",
        " \n",
        " \n",
        "uniqs = []\n",
        "cnt = []\n",
        "ids = []\n",
        "vuelta = []\n",
        "total = 1\n",
        " \n",
        "for x in cols:\n",
        "\tuniqs.append(list(uniq_vals(data, x)))\n",
        "\tif(total == 0):\n",
        "\t\tids.append(1)\n",
        "\telse:\n",
        "\t\tids.append(total)\n",
        " \n",
        "\ttotal*= len(uniqs[-1])\n",
        "\tcnt.append(0)\n",
        "\tvuelta.append(0)\n",
        " \n",
        " \n",
        " \n",
        " \n",
        "for u in range(total):\n",
        "\tvals = []\n",
        "\ti = 0\n",
        "\tfor x in cols:\n",
        "\t\tvals.append([x, uniqs[i][cnt[i]]])\n",
        "\t\ti+= 1\n",
        " \n",
        "\tget_pcon(vals)\n",
        " \n",
        "\tfor j in range(len(cols)):\n",
        "\t\tvuelta[j]+= 1\n",
        "\t\tif(vuelta[j] == ids[j]):\n",
        "\t\t\tcnt[j] = (cnt[j] + 1)%len(uniqs[j])\n",
        "\t\t\tvuelta[j] = 0"
      ],
      "execution_count": null,
      "outputs": []
    }
  ]
}